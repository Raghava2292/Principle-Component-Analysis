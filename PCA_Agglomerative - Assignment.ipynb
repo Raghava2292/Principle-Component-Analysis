{
 "cells": [
  {
   "cell_type": "markdown",
   "id": "c70fc28e",
   "metadata": {},
   "source": [
    "## Import the libraries"
   ]
  },
  {
   "cell_type": "code",
   "execution_count": 1,
   "id": "c4523e1f",
   "metadata": {
    "ExecuteTime": {
     "end_time": "2023-06-04T06:42:44.155136Z",
     "start_time": "2023-06-04T06:42:42.178710Z"
    }
   },
   "outputs": [],
   "source": [
    "import pandas as pd \n",
    "import numpy as np\n",
    "from sklearn.decomposition import PCA\n",
    "import matplotlib.pyplot as plt\n",
    "from sklearn.preprocessing import scale "
   ]
  },
  {
   "cell_type": "code",
   "execution_count": 2,
   "id": "e54e8067",
   "metadata": {
    "ExecuteTime": {
     "end_time": "2023-06-04T06:42:44.201721Z",
     "start_time": "2023-06-04T06:42:44.158848Z"
    }
   },
   "outputs": [
    {
     "data": {
      "text/html": [
       "<div>\n",
       "<style scoped>\n",
       "    .dataframe tbody tr th:only-of-type {\n",
       "        vertical-align: middle;\n",
       "    }\n",
       "\n",
       "    .dataframe tbody tr th {\n",
       "        vertical-align: top;\n",
       "    }\n",
       "\n",
       "    .dataframe thead th {\n",
       "        text-align: right;\n",
       "    }\n",
       "</style>\n",
       "<table border=\"1\" class=\"dataframe\">\n",
       "  <thead>\n",
       "    <tr style=\"text-align: right;\">\n",
       "      <th></th>\n",
       "      <th>Type</th>\n",
       "      <th>Alcohol</th>\n",
       "      <th>Malic</th>\n",
       "      <th>Ash</th>\n",
       "      <th>Alcalinity</th>\n",
       "      <th>Magnesium</th>\n",
       "      <th>Phenols</th>\n",
       "      <th>Flavanoids</th>\n",
       "      <th>Nonflavanoids</th>\n",
       "      <th>Proanthocyanins</th>\n",
       "      <th>Color</th>\n",
       "      <th>Hue</th>\n",
       "      <th>Dilution</th>\n",
       "      <th>Proline</th>\n",
       "    </tr>\n",
       "  </thead>\n",
       "  <tbody>\n",
       "    <tr>\n",
       "      <th>0</th>\n",
       "      <td>1</td>\n",
       "      <td>14.23</td>\n",
       "      <td>1.71</td>\n",
       "      <td>2.43</td>\n",
       "      <td>15.6</td>\n",
       "      <td>127</td>\n",
       "      <td>2.80</td>\n",
       "      <td>3.06</td>\n",
       "      <td>0.28</td>\n",
       "      <td>2.29</td>\n",
       "      <td>5.64</td>\n",
       "      <td>1.04</td>\n",
       "      <td>3.92</td>\n",
       "      <td>1065</td>\n",
       "    </tr>\n",
       "    <tr>\n",
       "      <th>1</th>\n",
       "      <td>1</td>\n",
       "      <td>13.20</td>\n",
       "      <td>1.78</td>\n",
       "      <td>2.14</td>\n",
       "      <td>11.2</td>\n",
       "      <td>100</td>\n",
       "      <td>2.65</td>\n",
       "      <td>2.76</td>\n",
       "      <td>0.26</td>\n",
       "      <td>1.28</td>\n",
       "      <td>4.38</td>\n",
       "      <td>1.05</td>\n",
       "      <td>3.40</td>\n",
       "      <td>1050</td>\n",
       "    </tr>\n",
       "    <tr>\n",
       "      <th>2</th>\n",
       "      <td>1</td>\n",
       "      <td>13.16</td>\n",
       "      <td>2.36</td>\n",
       "      <td>2.67</td>\n",
       "      <td>18.6</td>\n",
       "      <td>101</td>\n",
       "      <td>2.80</td>\n",
       "      <td>3.24</td>\n",
       "      <td>0.30</td>\n",
       "      <td>2.81</td>\n",
       "      <td>5.68</td>\n",
       "      <td>1.03</td>\n",
       "      <td>3.17</td>\n",
       "      <td>1185</td>\n",
       "    </tr>\n",
       "    <tr>\n",
       "      <th>3</th>\n",
       "      <td>1</td>\n",
       "      <td>14.37</td>\n",
       "      <td>1.95</td>\n",
       "      <td>2.50</td>\n",
       "      <td>16.8</td>\n",
       "      <td>113</td>\n",
       "      <td>3.85</td>\n",
       "      <td>3.49</td>\n",
       "      <td>0.24</td>\n",
       "      <td>2.18</td>\n",
       "      <td>7.80</td>\n",
       "      <td>0.86</td>\n",
       "      <td>3.45</td>\n",
       "      <td>1480</td>\n",
       "    </tr>\n",
       "    <tr>\n",
       "      <th>4</th>\n",
       "      <td>1</td>\n",
       "      <td>13.24</td>\n",
       "      <td>2.59</td>\n",
       "      <td>2.87</td>\n",
       "      <td>21.0</td>\n",
       "      <td>118</td>\n",
       "      <td>2.80</td>\n",
       "      <td>2.69</td>\n",
       "      <td>0.39</td>\n",
       "      <td>1.82</td>\n",
       "      <td>4.32</td>\n",
       "      <td>1.04</td>\n",
       "      <td>2.93</td>\n",
       "      <td>735</td>\n",
       "    </tr>\n",
       "  </tbody>\n",
       "</table>\n",
       "</div>"
      ],
      "text/plain": [
       "   Type  Alcohol  Malic   Ash  Alcalinity  Magnesium  Phenols  Flavanoids  \\\n",
       "0     1    14.23   1.71  2.43        15.6        127     2.80        3.06   \n",
       "1     1    13.20   1.78  2.14        11.2        100     2.65        2.76   \n",
       "2     1    13.16   2.36  2.67        18.6        101     2.80        3.24   \n",
       "3     1    14.37   1.95  2.50        16.8        113     3.85        3.49   \n",
       "4     1    13.24   2.59  2.87        21.0        118     2.80        2.69   \n",
       "\n",
       "   Nonflavanoids  Proanthocyanins  Color   Hue  Dilution  Proline  \n",
       "0           0.28             2.29   5.64  1.04      3.92     1065  \n",
       "1           0.26             1.28   4.38  1.05      3.40     1050  \n",
       "2           0.30             2.81   5.68  1.03      3.17     1185  \n",
       "3           0.24             2.18   7.80  0.86      3.45     1480  \n",
       "4           0.39             1.82   4.32  1.04      2.93      735  "
      ]
     },
     "execution_count": 2,
     "metadata": {},
     "output_type": "execute_result"
    }
   ],
   "source": [
    "data = pd.read_csv('wine.csv')\n",
    "data.head()"
   ]
  },
  {
   "cell_type": "markdown",
   "id": "9985d6c2",
   "metadata": {},
   "source": [
    "## Standardizing the data"
   ]
  },
  {
   "cell_type": "code",
   "execution_count": 3,
   "id": "c569e158",
   "metadata": {
    "ExecuteTime": {
     "end_time": "2023-06-04T06:42:44.233634Z",
     "start_time": "2023-06-04T06:42:44.209706Z"
    }
   },
   "outputs": [
    {
     "data": {
      "text/plain": [
       "array([[-1.21394365,  1.51861254, -0.5622498 , ...,  0.36217728,\n",
       "         1.84791957,  1.01300893],\n",
       "       [-1.21394365,  0.24628963, -0.49941338, ...,  0.40605066,\n",
       "         1.1134493 ,  0.96524152],\n",
       "       [-1.21394365,  0.19687903,  0.02123125, ...,  0.31830389,\n",
       "         0.78858745,  1.39514818],\n",
       "       ...,\n",
       "       [ 1.37386437,  0.33275817,  1.74474449, ..., -1.61212515,\n",
       "        -1.48544548,  0.28057537],\n",
       "       [ 1.37386437,  0.20923168,  0.22769377, ..., -1.56825176,\n",
       "        -1.40069891,  0.29649784],\n",
       "       [ 1.37386437,  1.39508604,  1.58316512, ..., -1.52437837,\n",
       "        -1.42894777, -0.59516041]])"
      ]
     },
     "execution_count": 3,
     "metadata": {},
     "output_type": "execute_result"
    }
   ],
   "source": [
    "data_ss = scale(data)\n",
    "data_ss"
   ]
  },
  {
   "cell_type": "markdown",
   "id": "3536f267",
   "metadata": {},
   "source": [
    "## Normalizing the data"
   ]
  },
  {
   "cell_type": "code",
   "execution_count": 4,
   "id": "7110e1d1",
   "metadata": {
    "ExecuteTime": {
     "end_time": "2023-06-04T06:42:44.264287Z",
     "start_time": "2023-06-04T06:42:44.236627Z"
    }
   },
   "outputs": [
    {
     "data": {
      "text/plain": [
       "array([[0.        , 0.84210526, 0.1916996 , ..., 0.45528455, 0.97069597,\n",
       "        0.56134094],\n",
       "       [0.        , 0.57105263, 0.2055336 , ..., 0.46341463, 0.78021978,\n",
       "        0.55064194],\n",
       "       [0.        , 0.56052632, 0.3201581 , ..., 0.44715447, 0.6959707 ,\n",
       "        0.64693295],\n",
       "       ...,\n",
       "       [1.        , 0.58947368, 0.69960474, ..., 0.08943089, 0.10622711,\n",
       "        0.39728959],\n",
       "       [1.        , 0.56315789, 0.36561265, ..., 0.09756098, 0.12820513,\n",
       "        0.40085592],\n",
       "       [1.        , 0.81578947, 0.66403162, ..., 0.10569106, 0.12087912,\n",
       "        0.20114123]])"
      ]
     },
     "execution_count": 4,
     "metadata": {},
     "output_type": "execute_result"
    }
   ],
   "source": [
    "from sklearn.preprocessing import MinMaxScaler\n",
    "mm = MinMaxScaler()\n",
    "data_mm = mm.fit_transform(data)\n",
    "data_mm"
   ]
  },
  {
   "cell_type": "markdown",
   "id": "7570e538",
   "metadata": {},
   "source": [
    "## Applying PCA and Agglomerative clustering on untransformed dataset"
   ]
  },
  {
   "cell_type": "code",
   "execution_count": 5,
   "id": "e625d8f3",
   "metadata": {
    "ExecuteTime": {
     "end_time": "2023-06-04T06:42:44.311115Z",
     "start_time": "2023-06-04T06:42:44.268264Z"
    }
   },
   "outputs": [
    {
     "data": {
      "text/plain": [
       "array([[ 3.18564055e+02,  2.14907729e+01,  3.16461306e+00, ...,\n",
       "         5.20108716e-01, -5.90537491e-01, -2.12167411e-01],\n",
       "       [ 3.03098514e+02, -5.36608268e+00,  6.81699246e+00, ...,\n",
       "         5.24392343e-02,  8.21709609e-02,  6.14828557e-01],\n",
       "       [ 4.38062063e+02, -6.53798613e+00, -1.06671672e+00, ...,\n",
       "         6.34321618e-01,  7.93768027e-01, -4.27185415e-01],\n",
       "       ...,\n",
       "       [ 8.84563102e+01,  1.87796442e+01, -2.42312742e+00, ...,\n",
       "         3.19367037e-01,  6.21932172e-01,  1.24379594e-01],\n",
       "       [ 9.34544723e+01,  1.86741801e+01, -1.95877509e+00, ...,\n",
       "        -1.01108089e+00,  4.15894621e-01, -1.28919114e-01],\n",
       "       [-1.86944619e+02, -2.11062888e-01, -5.73392038e+00, ...,\n",
       "         7.69306963e-01, -6.91677949e-01, -2.73443020e-01]])"
      ]
     },
     "execution_count": 5,
     "metadata": {},
     "output_type": "execute_result"
    }
   ],
   "source": [
    "pca = PCA(n_components = 8)\n",
    "pca_values = pca.fit_transform(data)\n",
    "pca_values "
   ]
  },
  {
   "cell_type": "code",
   "execution_count": 6,
   "id": "e45071e4",
   "metadata": {
    "ExecuteTime": {
     "end_time": "2023-06-04T06:42:44.327073Z",
     "start_time": "2023-06-04T06:42:44.314105Z"
    }
   },
   "outputs": [
    {
     "data": {
      "text/plain": [
       "array([[-1.55934284e-03,  1.65926191e-03, -6.81019030e-04,\n",
       "         1.94905197e-04, -4.67130461e-03,  1.78679787e-02,\n",
       "         9.89831553e-04,  1.56729290e-03, -1.23086954e-04,\n",
       "         6.00609082e-04,  2.32712720e-03,  1.71381131e-04,\n",
       "         7.04935892e-04,  9.99821721e-01],\n",
       "       [ 2.77861762e-03,  1.20426744e-03,  2.15953126e-03,\n",
       "         4.59399561e-03,  2.64607000e-02,  9.99339902e-01,\n",
       "         8.74730944e-04, -5.86582556e-05, -1.35399415e-03,\n",
       "         5.00222716e-03,  1.51142222e-02, -7.64042527e-04,\n",
       "        -3.50068415e-03, -1.77693551e-02],\n",
       "       [-1.00919962e-01, -1.83035443e-02, -1.24559463e-01,\n",
       "        -5.12928854e-02, -9.28099861e-01,  2.99845440e-02,\n",
       "         4.27611042e-02,  9.02671155e-02, -1.37215147e-02,\n",
       "         2.62371281e-02, -3.03202978e-01,  2.69922728e-02,\n",
       "         7.43661999e-02, -4.62655971e-03],\n",
       "       [-1.47645845e-01, -1.36988601e-01, -1.56739376e-01,\n",
       "         1.20471220e-02,  3.56990103e-01,  4.75411673e-03,\n",
       "         7.64520642e-02,  1.72191025e-01, -1.05935456e-02,\n",
       "         5.16064064e-02, -8.56516199e-01,  5.90553104e-02,\n",
       "         1.78526137e-01,  2.95057207e-03],\n",
       "       [-2.19197410e-01,  4.89326076e-02, -5.28930958e-01,\n",
       "         2.58456588e-02,  6.96112674e-02, -6.45212336e-03,\n",
       "         3.20080904e-01,  5.35695633e-01, -2.92888737e-02,\n",
       "         2.53787072e-01,  3.67299181e-01,  4.59428283e-02,\n",
       "         2.69296632e-01, -2.71317984e-03],\n",
       "       [-1.68685378e-01,  2.02080449e-01,  8.03839930e-01,\n",
       "         4.16939040e-02, -2.38595161e-02, -1.34900756e-03,\n",
       "         2.28319660e-01,  3.57645070e-01, -1.69515914e-02,\n",
       "         1.97181268e-01, -5.50792854e-03, -3.04131732e-02,\n",
       "         2.49150932e-01, -1.21125927e-03],\n",
       "       [ 1.78800746e-01, -8.90116287e-01,  1.46858065e-01,\n",
       "        -5.03492983e-02, -3.59371988e-02, -2.06502723e-03,\n",
       "         6.56798363e-02,  7.94552834e-02,  5.40388721e-05,\n",
       "         3.51740374e-01,  9.32896668e-02, -2.95825015e-02,\n",
       "        -7.99840472e-02,  1.17837163e-03],\n",
       "       [-1.90995227e-01, -3.49028029e-01,  7.55207359e-02,\n",
       "         1.50528090e-01, -1.13920692e-02,  3.56863845e-03,\n",
       "         8.99029662e-02,  2.04900461e-01, -9.89952674e-04,\n",
       "        -8.47727575e-01,  1.08371911e-01,  2.81667940e-03,\n",
       "         1.80923962e-01, -9.49174178e-05]])"
      ]
     },
     "execution_count": 6,
     "metadata": {},
     "output_type": "execute_result"
    }
   ],
   "source": [
    "#loadings or weights\n",
    "pca.components_"
   ]
  },
  {
   "cell_type": "code",
   "execution_count": 7,
   "id": "0f713e9f",
   "metadata": {
    "ExecuteTime": {
     "end_time": "2023-06-04T06:42:44.342032Z",
     "start_time": "2023-06-04T06:42:44.330064Z"
    }
   },
   "outputs": [
    {
     "data": {
      "text/plain": [
       "array([9.98087625e-01, 1.73591851e-03, 9.58948998e-05, 5.13200714e-05,\n",
       "       1.29365230e-05, 8.73476385e-06, 2.88762342e-06, 1.56228669e-06])"
      ]
     },
     "execution_count": 7,
     "metadata": {},
     "output_type": "execute_result"
    }
   ],
   "source": [
    "# The amount of variance that each PCA explains is \n",
    "var = pca.explained_variance_ratio_\n",
    "var"
   ]
  },
  {
   "cell_type": "code",
   "execution_count": 8,
   "id": "c0a97c19",
   "metadata": {
    "ExecuteTime": {
     "end_time": "2023-06-04T06:42:44.357989Z",
     "start_time": "2023-06-04T06:42:44.345024Z"
    }
   },
   "outputs": [
    {
     "data": {
      "text/plain": [
       "array([ 99.81,  99.98,  99.99, 100.  , 100.  , 100.  , 100.  , 100.  ])"
      ]
     },
     "execution_count": 8,
     "metadata": {},
     "output_type": "execute_result"
    }
   ],
   "source": [
    "# Cumulative variance \n",
    "var1 = np.cumsum(np.round(var,decimals = 4)*100)\n",
    "var1"
   ]
  },
  {
   "cell_type": "code",
   "execution_count": 9,
   "id": "4e237ffa",
   "metadata": {
    "ExecuteTime": {
     "end_time": "2023-06-04T06:42:44.593091Z",
     "start_time": "2023-06-04T06:42:44.364971Z"
    }
   },
   "outputs": [
    {
     "data": {
      "text/plain": [
       "[<matplotlib.lines.Line2D at 0x28da82d66b0>]"
      ]
     },
     "execution_count": 9,
     "metadata": {},
     "output_type": "execute_result"
    },
    {
     "data": {
      "image/png": "[encoded data removed]",
      "text/plain": [
       "<Figure size 640x480 with 1 Axes>"
      ]
     },
     "metadata": {},
     "output_type": "display_data"
    }
   ],
   "source": [
    "# Variance plot for PCA components obtained \n",
    "#plot(var1,color=\"red\")\n",
    "plt.plot(var1)"
   ]
  },
  {
   "cell_type": "code",
   "execution_count": 10,
   "id": "4e737004",
   "metadata": {
    "ExecuteTime": {
     "end_time": "2023-06-04T06:42:44.609039Z",
     "start_time": "2023-06-04T06:42:44.596072Z"
    }
   },
   "outputs": [
    {
     "data": {
      "text/html": [
       "<div>\n",
       "<style scoped>\n",
       "    .dataframe tbody tr th:only-of-type {\n",
       "        vertical-align: middle;\n",
       "    }\n",
       "\n",
       "    .dataframe tbody tr th {\n",
       "        vertical-align: top;\n",
       "    }\n",
       "\n",
       "    .dataframe thead th {\n",
       "        text-align: right;\n",
       "    }\n",
       "</style>\n",
       "<table border=\"1\" class=\"dataframe\">\n",
       "  <thead>\n",
       "    <tr style=\"text-align: right;\">\n",
       "      <th></th>\n",
       "      <th>0</th>\n",
       "      <th>1</th>\n",
       "      <th>2</th>\n",
       "    </tr>\n",
       "  </thead>\n",
       "  <tbody>\n",
       "    <tr>\n",
       "      <th>0</th>\n",
       "      <td>318.564055</td>\n",
       "      <td>21.490773</td>\n",
       "      <td>3.164613</td>\n",
       "    </tr>\n",
       "    <tr>\n",
       "      <th>1</th>\n",
       "      <td>303.098514</td>\n",
       "      <td>-5.366083</td>\n",
       "      <td>6.816992</td>\n",
       "    </tr>\n",
       "    <tr>\n",
       "      <th>2</th>\n",
       "      <td>438.062063</td>\n",
       "      <td>-6.537986</td>\n",
       "      <td>-1.066717</td>\n",
       "    </tr>\n",
       "    <tr>\n",
       "      <th>3</th>\n",
       "      <td>733.240711</td>\n",
       "      <td>0.193320</td>\n",
       "      <td>-0.938312</td>\n",
       "    </tr>\n",
       "    <tr>\n",
       "      <th>4</th>\n",
       "      <td>-11.569952</td>\n",
       "      <td>18.487255</td>\n",
       "      <td>-0.424917</td>\n",
       "    </tr>\n",
       "    <tr>\n",
       "      <th>...</th>\n",
       "      <td>...</td>\n",
       "      <td>...</td>\n",
       "      <td>...</td>\n",
       "    </tr>\n",
       "    <tr>\n",
       "      <th>173</th>\n",
       "      <td>-6.981858</td>\n",
       "      <td>-4.538116</td>\n",
       "      <td>-2.625187</td>\n",
       "    </tr>\n",
       "    <tr>\n",
       "      <th>174</th>\n",
       "      <td>3.129945</td>\n",
       "      <td>2.338236</td>\n",
       "      <td>-4.423240</td>\n",
       "    </tr>\n",
       "    <tr>\n",
       "      <th>175</th>\n",
       "      <td>88.456310</td>\n",
       "      <td>18.779644</td>\n",
       "      <td>-2.423127</td>\n",
       "    </tr>\n",
       "    <tr>\n",
       "      <th>176</th>\n",
       "      <td>93.454472</td>\n",
       "      <td>18.674180</td>\n",
       "      <td>-1.958775</td>\n",
       "    </tr>\n",
       "    <tr>\n",
       "      <th>177</th>\n",
       "      <td>-186.944619</td>\n",
       "      <td>-0.211063</td>\n",
       "      <td>-5.733920</td>\n",
       "    </tr>\n",
       "  </tbody>\n",
       "</table>\n",
       "<p>178 rows × 3 columns</p>\n",
       "</div>"
      ],
      "text/plain": [
       "              0          1         2\n",
       "0    318.564055  21.490773  3.164613\n",
       "1    303.098514  -5.366083  6.816992\n",
       "2    438.062063  -6.537986 -1.066717\n",
       "3    733.240711   0.193320 -0.938312\n",
       "4    -11.569952  18.487255 -0.424917\n",
       "..          ...        ...       ...\n",
       "173   -6.981858  -4.538116 -2.625187\n",
       "174    3.129945   2.338236 -4.423240\n",
       "175   88.456310  18.779644 -2.423127\n",
       "176   93.454472  18.674180 -1.958775\n",
       "177 -186.944619  -0.211063 -5.733920\n",
       "\n",
       "[178 rows x 3 columns]"
      ]
     },
     "execution_count": 10,
     "metadata": {},
     "output_type": "execute_result"
    }
   ],
   "source": [
    "finalDf = pd.DataFrame(pca_values[:, 0:3])\n",
    "finalDf"
   ]
  },
  {
   "cell_type": "markdown",
   "id": "b58d2014",
   "metadata": {},
   "source": [
    "## Finding optimal number of clusters"
   ]
  },
  {
   "cell_type": "code",
   "execution_count": 11,
   "id": "5c72b9d8",
   "metadata": {
    "ExecuteTime": {
     "end_time": "2023-06-04T06:42:46.358858Z",
     "start_time": "2023-06-04T06:42:44.613028Z"
    }
   },
   "outputs": [
    {
     "data": {
      "image/png": "[encoded data removed]",
      "text/plain": [
       "<Figure size 1500x500 with 1 Axes>"
      ]
     },
     "metadata": {},
     "output_type": "display_data"
    }
   ],
   "source": [
    "from scipy.cluster.hierarchy import linkage \n",
    "import scipy.cluster.hierarchy as sch # for creating dendrogram \n",
    "#p = np.array(df_norm) # converting into numpy array format \n",
    "z = linkage(finalDf, method=\"average\",metric=\"euclidean\")\n",
    "plt.figure(figsize=(15, 5))\n",
    "plt.title('Hierarchical Clustering Dendrogram')\n",
    "plt.xlabel('Index')\n",
    "plt.ylabel('Distance')\n",
    "sch.dendrogram(\n",
    "    z,\n",
    "    #leaf_rotation=6.,  # rotates the x axis labels\n",
    "    #leaf_font_size=15.,  # font size for the x axis labels\n",
    ")\n",
    "plt.show()  "
   ]
  },
  {
   "cell_type": "markdown",
   "id": "f314d4fc",
   "metadata": {},
   "source": [
    "## Fitting the model"
   ]
  },
  {
   "cell_type": "code",
   "execution_count": 12,
   "id": "aec15705",
   "metadata": {
    "ExecuteTime": {
     "end_time": "2023-06-04T06:42:48.059443Z",
     "start_time": "2023-06-04T06:42:46.361850Z"
    }
   },
   "outputs": [
    {
     "data": {
      "text/html": [
       "<div>\n",
       "<style scoped>\n",
       "    .dataframe tbody tr th:only-of-type {\n",
       "        vertical-align: middle;\n",
       "    }\n",
       "\n",
       "    .dataframe tbody tr th {\n",
       "        vertical-align: top;\n",
       "    }\n",
       "\n",
       "    .dataframe thead th {\n",
       "        text-align: right;\n",
       "    }\n",
       "</style>\n",
       "<table border=\"1\" class=\"dataframe\">\n",
       "  <thead>\n",
       "    <tr style=\"text-align: right;\">\n",
       "      <th></th>\n",
       "      <th>0</th>\n",
       "      <th>1</th>\n",
       "      <th>2</th>\n",
       "      <th>Clusters</th>\n",
       "    </tr>\n",
       "  </thead>\n",
       "  <tbody>\n",
       "    <tr>\n",
       "      <th>0</th>\n",
       "      <td>318.564055</td>\n",
       "      <td>21.490773</td>\n",
       "      <td>3.164613</td>\n",
       "      <td>1</td>\n",
       "    </tr>\n",
       "    <tr>\n",
       "      <th>1</th>\n",
       "      <td>303.098514</td>\n",
       "      <td>-5.366083</td>\n",
       "      <td>6.816992</td>\n",
       "      <td>1</td>\n",
       "    </tr>\n",
       "    <tr>\n",
       "      <th>2</th>\n",
       "      <td>438.062063</td>\n",
       "      <td>-6.537986</td>\n",
       "      <td>-1.066717</td>\n",
       "      <td>1</td>\n",
       "    </tr>\n",
       "    <tr>\n",
       "      <th>3</th>\n",
       "      <td>733.240711</td>\n",
       "      <td>0.193320</td>\n",
       "      <td>-0.938312</td>\n",
       "      <td>2</td>\n",
       "    </tr>\n",
       "    <tr>\n",
       "      <th>4</th>\n",
       "      <td>-11.569952</td>\n",
       "      <td>18.487255</td>\n",
       "      <td>-0.424917</td>\n",
       "      <td>0</td>\n",
       "    </tr>\n",
       "    <tr>\n",
       "      <th>...</th>\n",
       "      <td>...</td>\n",
       "      <td>...</td>\n",
       "      <td>...</td>\n",
       "      <td>...</td>\n",
       "    </tr>\n",
       "    <tr>\n",
       "      <th>173</th>\n",
       "      <td>-6.981858</td>\n",
       "      <td>-4.538116</td>\n",
       "      <td>-2.625187</td>\n",
       "      <td>0</td>\n",
       "    </tr>\n",
       "    <tr>\n",
       "      <th>174</th>\n",
       "      <td>3.129945</td>\n",
       "      <td>2.338236</td>\n",
       "      <td>-4.423240</td>\n",
       "      <td>0</td>\n",
       "    </tr>\n",
       "    <tr>\n",
       "      <th>175</th>\n",
       "      <td>88.456310</td>\n",
       "      <td>18.779644</td>\n",
       "      <td>-2.423127</td>\n",
       "      <td>0</td>\n",
       "    </tr>\n",
       "    <tr>\n",
       "      <th>176</th>\n",
       "      <td>93.454472</td>\n",
       "      <td>18.674180</td>\n",
       "      <td>-1.958775</td>\n",
       "      <td>0</td>\n",
       "    </tr>\n",
       "    <tr>\n",
       "      <th>177</th>\n",
       "      <td>-186.944619</td>\n",
       "      <td>-0.211063</td>\n",
       "      <td>-5.733920</td>\n",
       "      <td>0</td>\n",
       "    </tr>\n",
       "  </tbody>\n",
       "</table>\n",
       "<p>178 rows × 4 columns</p>\n",
       "</div>"
      ],
      "text/plain": [
       "              0          1         2  Clusters\n",
       "0    318.564055  21.490773  3.164613         1\n",
       "1    303.098514  -5.366083  6.816992         1\n",
       "2    438.062063  -6.537986 -1.066717         1\n",
       "3    733.240711   0.193320 -0.938312         2\n",
       "4    -11.569952  18.487255 -0.424917         0\n",
       "..          ...        ...       ...       ...\n",
       "173   -6.981858  -4.538116 -2.625187         0\n",
       "174    3.129945   2.338236 -4.423240         0\n",
       "175   88.456310  18.779644 -2.423127         0\n",
       "176   93.454472  18.674180 -1.958775         0\n",
       "177 -186.944619  -0.211063 -5.733920         0\n",
       "\n",
       "[178 rows x 4 columns]"
      ]
     },
     "execution_count": 12,
     "metadata": {},
     "output_type": "execute_result"
    }
   ],
   "source": [
    "from sklearn.cluster import AgglomerativeClustering \n",
    "import warnings \n",
    "warnings.filterwarnings('ignore')\n",
    "h_complete = AgglomerativeClustering(n_clusters=3, linkage='average',affinity = \"euclidean\").fit(finalDf) \n",
    "\n",
    "cluster_labels=pd.Series(h_complete.labels_)\n",
    "cluster_labels\n",
    "finalDf['Clusters']=cluster_labels # creating a  new column and assigning it to new column \n",
    "finalDf  "
   ]
  },
  {
   "cell_type": "code",
   "execution_count": 13,
   "id": "dccf13d3",
   "metadata": {
    "ExecuteTime": {
     "end_time": "2023-06-04T06:42:48.075366Z",
     "start_time": "2023-06-04T06:42:48.063399Z"
    }
   },
   "outputs": [],
   "source": [
    "finalDf.columns = ['pca1', 'pca2', 'pca3', 'Clusters']"
   ]
  },
  {
   "cell_type": "code",
   "execution_count": 14,
   "id": "8dc098e4",
   "metadata": {
    "ExecuteTime": {
     "end_time": "2023-06-04T06:42:48.106504Z",
     "start_time": "2023-06-04T06:42:48.079357Z"
    }
   },
   "outputs": [
    {
     "data": {
      "text/html": [
       "<div>\n",
       "<style scoped>\n",
       "    .dataframe tbody tr th:only-of-type {\n",
       "        vertical-align: middle;\n",
       "    }\n",
       "\n",
       "    .dataframe tbody tr th {\n",
       "        vertical-align: top;\n",
       "    }\n",
       "\n",
       "    .dataframe thead th {\n",
       "        text-align: right;\n",
       "    }\n",
       "</style>\n",
       "<table border=\"1\" class=\"dataframe\">\n",
       "  <thead>\n",
       "    <tr style=\"text-align: right;\">\n",
       "      <th></th>\n",
       "      <th>pca1</th>\n",
       "      <th>pca2</th>\n",
       "      <th>pca3</th>\n",
       "      <th>Clusters</th>\n",
       "    </tr>\n",
       "  </thead>\n",
       "  <tbody>\n",
       "    <tr>\n",
       "      <th>0</th>\n",
       "      <td>318.564055</td>\n",
       "      <td>21.490773</td>\n",
       "      <td>3.164613</td>\n",
       "      <td>1</td>\n",
       "    </tr>\n",
       "    <tr>\n",
       "      <th>1</th>\n",
       "      <td>303.098514</td>\n",
       "      <td>-5.366083</td>\n",
       "      <td>6.816992</td>\n",
       "      <td>1</td>\n",
       "    </tr>\n",
       "    <tr>\n",
       "      <th>2</th>\n",
       "      <td>438.062063</td>\n",
       "      <td>-6.537986</td>\n",
       "      <td>-1.066717</td>\n",
       "      <td>1</td>\n",
       "    </tr>\n",
       "    <tr>\n",
       "      <th>3</th>\n",
       "      <td>733.240711</td>\n",
       "      <td>0.193320</td>\n",
       "      <td>-0.938312</td>\n",
       "      <td>2</td>\n",
       "    </tr>\n",
       "    <tr>\n",
       "      <th>4</th>\n",
       "      <td>-11.569952</td>\n",
       "      <td>18.487255</td>\n",
       "      <td>-0.424917</td>\n",
       "      <td>0</td>\n",
       "    </tr>\n",
       "    <tr>\n",
       "      <th>...</th>\n",
       "      <td>...</td>\n",
       "      <td>...</td>\n",
       "      <td>...</td>\n",
       "      <td>...</td>\n",
       "    </tr>\n",
       "    <tr>\n",
       "      <th>173</th>\n",
       "      <td>-6.981858</td>\n",
       "      <td>-4.538116</td>\n",
       "      <td>-2.625187</td>\n",
       "      <td>0</td>\n",
       "    </tr>\n",
       "    <tr>\n",
       "      <th>174</th>\n",
       "      <td>3.129945</td>\n",
       "      <td>2.338236</td>\n",
       "      <td>-4.423240</td>\n",
       "      <td>0</td>\n",
       "    </tr>\n",
       "    <tr>\n",
       "      <th>175</th>\n",
       "      <td>88.456310</td>\n",
       "      <td>18.779644</td>\n",
       "      <td>-2.423127</td>\n",
       "      <td>0</td>\n",
       "    </tr>\n",
       "    <tr>\n",
       "      <th>176</th>\n",
       "      <td>93.454472</td>\n",
       "      <td>18.674180</td>\n",
       "      <td>-1.958775</td>\n",
       "      <td>0</td>\n",
       "    </tr>\n",
       "    <tr>\n",
       "      <th>177</th>\n",
       "      <td>-186.944619</td>\n",
       "      <td>-0.211063</td>\n",
       "      <td>-5.733920</td>\n",
       "      <td>0</td>\n",
       "    </tr>\n",
       "  </tbody>\n",
       "</table>\n",
       "<p>178 rows × 4 columns</p>\n",
       "</div>"
      ],
      "text/plain": [
       "           pca1       pca2      pca3  Clusters\n",
       "0    318.564055  21.490773  3.164613         1\n",
       "1    303.098514  -5.366083  6.816992         1\n",
       "2    438.062063  -6.537986 -1.066717         1\n",
       "3    733.240711   0.193320 -0.938312         2\n",
       "4    -11.569952  18.487255 -0.424917         0\n",
       "..          ...        ...       ...       ...\n",
       "173   -6.981858  -4.538116 -2.625187         0\n",
       "174    3.129945   2.338236 -4.423240         0\n",
       "175   88.456310  18.779644 -2.423127         0\n",
       "176   93.454472  18.674180 -1.958775         0\n",
       "177 -186.944619  -0.211063 -5.733920         0\n",
       "\n",
       "[178 rows x 4 columns]"
      ]
     },
     "execution_count": 14,
     "metadata": {},
     "output_type": "execute_result"
    }
   ],
   "source": [
    "finalDf"
   ]
  },
  {
   "cell_type": "code",
   "execution_count": 15,
   "id": "f6be704c",
   "metadata": {
    "ExecuteTime": {
     "end_time": "2023-06-04T06:42:48.122381Z",
     "start_time": "2023-06-04T06:42:48.108418Z"
    }
   },
   "outputs": [
    {
     "name": "stdout",
     "output_type": "stream",
     "text": [
      "['Solarize_Light2', '_classic_test_patch', '_mpl-gallery', '_mpl-gallery-nogrid', 'bmh', 'classic', 'dark_background', 'fast', 'fivethirtyeight', 'ggplot', 'grayscale', 'seaborn-v0_8', 'seaborn-v0_8-bright', 'seaborn-v0_8-colorblind', 'seaborn-v0_8-dark', 'seaborn-v0_8-dark-palette', 'seaborn-v0_8-darkgrid', 'seaborn-v0_8-deep', 'seaborn-v0_8-muted', 'seaborn-v0_8-notebook', 'seaborn-v0_8-paper', 'seaborn-v0_8-pastel', 'seaborn-v0_8-poster', 'seaborn-v0_8-talk', 'seaborn-v0_8-ticks', 'seaborn-v0_8-white', 'seaborn-v0_8-whitegrid', 'tableau-colorblind10']\n"
     ]
    }
   ],
   "source": [
    "plt.style.use(['classic']) \n",
    "print(plt.style.available) "
   ]
  },
  {
   "cell_type": "code",
   "execution_count": 16,
   "id": "9e93fa38",
   "metadata": {
    "ExecuteTime": {
     "end_time": "2023-06-04T06:42:48.794762Z",
     "start_time": "2023-06-04T06:42:48.125372Z"
    }
   },
   "outputs": [
    {
     "data": {
      "text/plain": [
       "Text(0.5, 1.0, 'Clusters using Agglomerative')"
      ]
     },
     "execution_count": 16,
     "metadata": {},
     "output_type": "execute_result"
    },
    {
     "data": {
      "image/png": "[encoded data removed]",
      "text/plain": [
       "<Figure size 640x480 with 2 Axes>"
      ]
     },
     "metadata": {},
     "output_type": "display_data"
    }
   ],
   "source": [
    "finalDf.plot(x=\"pca1\",y =\"pca2\",c=cluster_labels,kind=\"scatter\",s=30 ,cmap=plt.cm.coolwarm) \n",
    "plt.title('Clusters using Agglomerative') "
   ]
  },
  {
   "cell_type": "markdown",
   "id": "d57f8065",
   "metadata": {},
   "source": [
    "## Apply PCA and Agglomerative Clustering on the normalized dataset"
   ]
  },
  {
   "cell_type": "code",
   "execution_count": 17,
   "id": "46d94f53",
   "metadata": {
    "ExecuteTime": {
     "end_time": "2023-06-04T06:42:48.810719Z",
     "start_time": "2023-06-04T06:42:48.797755Z"
    }
   },
   "outputs": [
    {
     "data": {
      "text/plain": [
       "array([[-0.84760416, -0.24314632,  0.02975173, ...,  0.03880984,\n",
       "         0.04914587,  0.1141269 ],\n",
       "       [-0.6786508 , -0.00571174, -0.28396974, ..., -0.02610397,\n",
       "        -0.01303162, -0.13504289],\n",
       "       [-0.70037223, -0.18386807,  0.19745712, ..., -0.04405415,\n",
       "         0.14118661, -0.08672555],\n",
       "       ...,\n",
       "       [ 0.82065832, -0.55246914, -0.02074951, ...,  0.02190653,\n",
       "         0.1936336 , -0.03695684],\n",
       "       [ 0.77726837, -0.4302553 , -0.09551105, ..., -0.04478047,\n",
       "         0.16155678, -0.06420208],\n",
       "       [ 0.8758746 , -0.52183358,  0.28745683, ..., -0.10074274,\n",
       "        -0.10993315,  0.12191245]])"
      ]
     },
     "execution_count": 17,
     "metadata": {},
     "output_type": "execute_result"
    }
   ],
   "source": [
    "pca_norm = PCA(n_components = 8)\n",
    "pca_norm_values = pca_norm.fit_transform(data_mm)\n",
    "pca_norm_values"
   ]
  },
  {
   "cell_type": "code",
   "execution_count": 18,
   "id": "c35f1d59",
   "metadata": {
    "ExecuteTime": {
     "end_time": "2023-06-04T06:42:48.825679Z",
     "start_time": "2023-06-04T06:42:48.814709Z"
    }
   },
   "outputs": [
    {
     "data": {
      "text/plain": [
       "array([[ 0.6293282 , -0.11538334,  0.18694541, -0.00605884,  0.14898351,\n",
       "        -0.06546653, -0.29907772, -0.32479936,  0.23920701, -0.18419798,\n",
       "         0.08078851, -0.20189805, -0.37170465, -0.2400427 ],\n",
       "       [ 0.01993018, -0.54791647, -0.2344791 , -0.16351603,  0.07620456,\n",
       "        -0.18485315, -0.06219328,  0.01015402, -0.02206778, -0.02268177,\n",
       "        -0.52014852,  0.24253447,  0.22768572, -0.43761144],\n",
       "       [ 0.03341574, -0.08752348,  0.49369469,  0.39251169,  0.47666736,\n",
       "         0.01701346,  0.26790425,  0.20701857,  0.23278396,  0.24925826,\n",
       "        -0.02422129, -0.1201589 ,  0.30702977, -0.16025723],\n",
       "       [-0.29258342,  0.06222583, -0.17547483,  0.20681556,  0.04089069,\n",
       "        -0.11406464, -0.10022125, -0.07451451,  0.79752561, -0.22126034,\n",
       "        -0.08760114,  0.27479592, -0.08399171,  0.17729834],\n",
       "       [ 0.28148105, -0.16228821, -0.66493451,  0.23497092,  0.28992581,\n",
       "         0.27654331,  0.20490882,  0.12531803,  0.0069295 ,  0.25398196,\n",
       "         0.27044136,  0.11354174, -0.16460973,  0.0342759 ],\n",
       "       [-0.13118319, -0.04725362,  0.07955381,  0.37438456,  0.29955875,\n",
       "         0.48981477, -0.32001877, -0.1577103 , -0.34549364, -0.37660733,\n",
       "        -0.2591253 ,  0.14038493, -0.02191558,  0.16909722],\n",
       "       [-0.05736109, -0.32274359,  0.27954954, -0.17779217, -0.27887792,\n",
       "         0.51044661, -0.06885805, -0.04402893,  0.20700736,  0.50855601,\n",
       "        -0.16142847,  0.12197605, -0.27371138,  0.14297963],\n",
       "       [ 0.26015537,  0.61424446,  0.06837587, -0.13834036,  0.1150809 ,\n",
       "         0.08141568, -0.04262492, -0.08704541, -0.01954717,  0.2210299 ,\n",
       "        -0.13800823,  0.6172137 ,  0.08015704, -0.21513533]])"
      ]
     },
     "execution_count": 18,
     "metadata": {},
     "output_type": "execute_result"
    }
   ],
   "source": [
    "#loadings or weights\n",
    "pca_norm.components_"
   ]
  },
  {
   "cell_type": "code",
   "execution_count": 19,
   "id": "3e111151",
   "metadata": {
    "ExecuteTime": {
     "end_time": "2023-06-04T06:42:48.840640Z",
     "start_time": "2023-06-04T06:42:48.829669Z"
    }
   },
   "outputs": [
    {
     "data": {
      "text/plain": [
       "array([0.51003634, 0.14853339, 0.06702619, 0.06257153, 0.05009893,\n",
       "       0.03837954, 0.02882988, 0.01963591])"
      ]
     },
     "execution_count": 19,
     "metadata": {},
     "output_type": "execute_result"
    }
   ],
   "source": [
    "# The amount of variance that each PCA explains is \n",
    "var_norm = pca_norm.explained_variance_ratio_\n",
    "var_norm"
   ]
  },
  {
   "cell_type": "code",
   "execution_count": 20,
   "id": "1fa8f9a1",
   "metadata": {
    "ExecuteTime": {
     "end_time": "2023-06-04T06:42:48.856609Z",
     "start_time": "2023-06-04T06:42:48.844634Z"
    }
   },
   "outputs": [
    {
     "data": {
      "text/plain": [
       "array([51.  , 65.85, 72.55, 78.81, 83.82, 87.66, 90.54, 92.5 ])"
      ]
     },
     "execution_count": 20,
     "metadata": {},
     "output_type": "execute_result"
    }
   ],
   "source": [
    "# Cumulative variance \n",
    "var1_norm = np.cumsum(np.round(var_norm,decimals = 4)*100)\n",
    "var1_norm"
   ]
  },
  {
   "cell_type": "markdown",
   "id": "a53719ef",
   "metadata": {},
   "source": [
    "#### To get some meaningful data we need to consider till the 8th principal component in this case. But since it is asked for only 3 components I am doing for both 3 components and also 8 components."
   ]
  },
  {
   "cell_type": "code",
   "execution_count": 21,
   "id": "5be067e6",
   "metadata": {
    "ExecuteTime": {
     "end_time": "2023-06-04T06:42:48.888509Z",
     "start_time": "2023-06-04T06:42:48.859589Z"
    }
   },
   "outputs": [
    {
     "data": {
      "text/html": [
       "<div>\n",
       "<style scoped>\n",
       "    .dataframe tbody tr th:only-of-type {\n",
       "        vertical-align: middle;\n",
       "    }\n",
       "\n",
       "    .dataframe tbody tr th {\n",
       "        vertical-align: top;\n",
       "    }\n",
       "\n",
       "    .dataframe thead th {\n",
       "        text-align: right;\n",
       "    }\n",
       "</style>\n",
       "<table border=\"1\" class=\"dataframe\">\n",
       "  <thead>\n",
       "    <tr style=\"text-align: right;\">\n",
       "      <th></th>\n",
       "      <th>pca1</th>\n",
       "      <th>pca2</th>\n",
       "      <th>pca3</th>\n",
       "    </tr>\n",
       "  </thead>\n",
       "  <tbody>\n",
       "    <tr>\n",
       "      <th>0</th>\n",
       "      <td>-0.847604</td>\n",
       "      <td>-0.243146</td>\n",
       "      <td>0.029752</td>\n",
       "    </tr>\n",
       "    <tr>\n",
       "      <th>1</th>\n",
       "      <td>-0.678651</td>\n",
       "      <td>-0.005712</td>\n",
       "      <td>-0.283970</td>\n",
       "    </tr>\n",
       "    <tr>\n",
       "      <th>2</th>\n",
       "      <td>-0.700372</td>\n",
       "      <td>-0.183868</td>\n",
       "      <td>0.197457</td>\n",
       "    </tr>\n",
       "    <tr>\n",
       "      <th>3</th>\n",
       "      <td>-0.936076</td>\n",
       "      <td>-0.566967</td>\n",
       "      <td>0.093919</td>\n",
       "    </tr>\n",
       "    <tr>\n",
       "      <th>4</th>\n",
       "      <td>-0.454077</td>\n",
       "      <td>-0.063348</td>\n",
       "      <td>0.286092</td>\n",
       "    </tr>\n",
       "    <tr>\n",
       "      <th>...</th>\n",
       "      <td>...</td>\n",
       "      <td>...</td>\n",
       "      <td>...</td>\n",
       "    </tr>\n",
       "    <tr>\n",
       "      <th>173</th>\n",
       "      <td>0.898916</td>\n",
       "      <td>-0.482112</td>\n",
       "      <td>0.203259</td>\n",
       "    </tr>\n",
       "    <tr>\n",
       "      <th>174</th>\n",
       "      <td>0.785427</td>\n",
       "      <td>-0.353231</td>\n",
       "      <td>0.088418</td>\n",
       "    </tr>\n",
       "    <tr>\n",
       "      <th>175</th>\n",
       "      <td>0.820658</td>\n",
       "      <td>-0.552469</td>\n",
       "      <td>-0.020750</td>\n",
       "    </tr>\n",
       "    <tr>\n",
       "      <th>176</th>\n",
       "      <td>0.777268</td>\n",
       "      <td>-0.430255</td>\n",
       "      <td>-0.095511</td>\n",
       "    </tr>\n",
       "    <tr>\n",
       "      <th>177</th>\n",
       "      <td>0.875875</td>\n",
       "      <td>-0.521834</td>\n",
       "      <td>0.287457</td>\n",
       "    </tr>\n",
       "  </tbody>\n",
       "</table>\n",
       "<p>178 rows × 3 columns</p>\n",
       "</div>"
      ],
      "text/plain": [
       "         pca1      pca2      pca3\n",
       "0   -0.847604 -0.243146  0.029752\n",
       "1   -0.678651 -0.005712 -0.283970\n",
       "2   -0.700372 -0.183868  0.197457\n",
       "3   -0.936076 -0.566967  0.093919\n",
       "4   -0.454077 -0.063348  0.286092\n",
       "..        ...       ...       ...\n",
       "173  0.898916 -0.482112  0.203259\n",
       "174  0.785427 -0.353231  0.088418\n",
       "175  0.820658 -0.552469 -0.020750\n",
       "176  0.777268 -0.430255 -0.095511\n",
       "177  0.875875 -0.521834  0.287457\n",
       "\n",
       "[178 rows x 3 columns]"
      ]
     },
     "execution_count": 21,
     "metadata": {},
     "output_type": "execute_result"
    }
   ],
   "source": [
    "finalDf_norm_3 = pd.DataFrame(pca_norm_values[:, 0:3])\n",
    "finalDf_norm_3.columns = ['pca1', 'pca2', 'pca3']\n",
    "finalDf_norm_3"
   ]
  },
  {
   "cell_type": "code",
   "execution_count": 22,
   "id": "e573bf3b",
   "metadata": {
    "ExecuteTime": {
     "end_time": "2023-06-04T06:42:48.919428Z",
     "start_time": "2023-06-04T06:42:48.891502Z"
    }
   },
   "outputs": [
    {
     "data": {
      "text/html": [
       "<div>\n",
       "<style scoped>\n",
       "    .dataframe tbody tr th:only-of-type {\n",
       "        vertical-align: middle;\n",
       "    }\n",
       "\n",
       "    .dataframe tbody tr th {\n",
       "        vertical-align: top;\n",
       "    }\n",
       "\n",
       "    .dataframe thead th {\n",
       "        text-align: right;\n",
       "    }\n",
       "</style>\n",
       "<table border=\"1\" class=\"dataframe\">\n",
       "  <thead>\n",
       "    <tr style=\"text-align: right;\">\n",
       "      <th></th>\n",
       "      <th>pca1</th>\n",
       "      <th>pca2</th>\n",
       "      <th>pca3</th>\n",
       "      <th>pca4</th>\n",
       "      <th>pca5</th>\n",
       "      <th>pca6</th>\n",
       "      <th>pca7</th>\n",
       "      <th>pca8</th>\n",
       "    </tr>\n",
       "  </thead>\n",
       "  <tbody>\n",
       "    <tr>\n",
       "      <th>0</th>\n",
       "      <td>-0.847604</td>\n",
       "      <td>-0.243146</td>\n",
       "      <td>0.029752</td>\n",
       "      <td>-0.047430</td>\n",
       "      <td>-0.002728</td>\n",
       "      <td>0.038810</td>\n",
       "      <td>0.049146</td>\n",
       "      <td>0.114127</td>\n",
       "    </tr>\n",
       "    <tr>\n",
       "      <th>1</th>\n",
       "      <td>-0.678651</td>\n",
       "      <td>-0.005712</td>\n",
       "      <td>-0.283970</td>\n",
       "      <td>0.001458</td>\n",
       "      <td>-0.248171</td>\n",
       "      <td>-0.026104</td>\n",
       "      <td>-0.013032</td>\n",
       "      <td>-0.135043</td>\n",
       "    </tr>\n",
       "    <tr>\n",
       "      <th>2</th>\n",
       "      <td>-0.700372</td>\n",
       "      <td>-0.183868</td>\n",
       "      <td>0.197457</td>\n",
       "      <td>0.004297</td>\n",
       "      <td>0.049228</td>\n",
       "      <td>-0.044054</td>\n",
       "      <td>0.141187</td>\n",
       "      <td>-0.086726</td>\n",
       "    </tr>\n",
       "    <tr>\n",
       "      <th>3</th>\n",
       "      <td>-0.936076</td>\n",
       "      <td>-0.566967</td>\n",
       "      <td>0.093919</td>\n",
       "      <td>-0.110809</td>\n",
       "      <td>0.092336</td>\n",
       "      <td>-0.106658</td>\n",
       "      <td>-0.071420</td>\n",
       "      <td>-0.093214</td>\n",
       "    </tr>\n",
       "    <tr>\n",
       "      <th>4</th>\n",
       "      <td>-0.454077</td>\n",
       "      <td>-0.063348</td>\n",
       "      <td>0.286092</td>\n",
       "      <td>0.179782</td>\n",
       "      <td>0.008012</td>\n",
       "      <td>0.182285</td>\n",
       "      <td>0.067237</td>\n",
       "      <td>-0.035410</td>\n",
       "    </tr>\n",
       "    <tr>\n",
       "      <th>...</th>\n",
       "      <td>...</td>\n",
       "      <td>...</td>\n",
       "      <td>...</td>\n",
       "      <td>...</td>\n",
       "      <td>...</td>\n",
       "      <td>...</td>\n",
       "      <td>...</td>\n",
       "      <td>...</td>\n",
       "    </tr>\n",
       "    <tr>\n",
       "      <th>173</th>\n",
       "      <td>0.898916</td>\n",
       "      <td>-0.482112</td>\n",
       "      <td>0.203259</td>\n",
       "      <td>0.012476</td>\n",
       "      <td>-0.342452</td>\n",
       "      <td>-0.032776</td>\n",
       "      <td>0.066883</td>\n",
       "      <td>0.070463</td>\n",
       "    </tr>\n",
       "    <tr>\n",
       "      <th>174</th>\n",
       "      <td>0.785427</td>\n",
       "      <td>-0.353231</td>\n",
       "      <td>0.088418</td>\n",
       "      <td>-0.075360</td>\n",
       "      <td>0.008066</td>\n",
       "      <td>0.043131</td>\n",
       "      <td>0.044505</td>\n",
       "      <td>0.067033</td>\n",
       "    </tr>\n",
       "    <tr>\n",
       "      <th>175</th>\n",
       "      <td>0.820658</td>\n",
       "      <td>-0.552469</td>\n",
       "      <td>-0.020750</td>\n",
       "      <td>-0.166405</td>\n",
       "      <td>-0.015765</td>\n",
       "      <td>0.021907</td>\n",
       "      <td>0.193634</td>\n",
       "      <td>-0.036957</td>\n",
       "    </tr>\n",
       "    <tr>\n",
       "      <th>176</th>\n",
       "      <td>0.777268</td>\n",
       "      <td>-0.430255</td>\n",
       "      <td>-0.095511</td>\n",
       "      <td>0.051361</td>\n",
       "      <td>0.215166</td>\n",
       "      <td>-0.044780</td>\n",
       "      <td>0.161557</td>\n",
       "      <td>-0.064202</td>\n",
       "    </tr>\n",
       "    <tr>\n",
       "      <th>177</th>\n",
       "      <td>0.875875</td>\n",
       "      <td>-0.521834</td>\n",
       "      <td>0.287457</td>\n",
       "      <td>0.100805</td>\n",
       "      <td>0.032272</td>\n",
       "      <td>-0.100743</td>\n",
       "      <td>-0.109933</td>\n",
       "      <td>0.121912</td>\n",
       "    </tr>\n",
       "  </tbody>\n",
       "</table>\n",
       "<p>178 rows × 8 columns</p>\n",
       "</div>"
      ],
      "text/plain": [
       "         pca1      pca2      pca3      pca4      pca5      pca6      pca7  \\\n",
       "0   -0.847604 -0.243146  0.029752 -0.047430 -0.002728  0.038810  0.049146   \n",
       "1   -0.678651 -0.005712 -0.283970  0.001458 -0.248171 -0.026104 -0.013032   \n",
       "2   -0.700372 -0.183868  0.197457  0.004297  0.049228 -0.044054  0.141187   \n",
       "3   -0.936076 -0.566967  0.093919 -0.110809  0.092336 -0.106658 -0.071420   \n",
       "4   -0.454077 -0.063348  0.286092  0.179782  0.008012  0.182285  0.067237   \n",
       "..        ...       ...       ...       ...       ...       ...       ...   \n",
       "173  0.898916 -0.482112  0.203259  0.012476 -0.342452 -0.032776  0.066883   \n",
       "174  0.785427 -0.353231  0.088418 -0.075360  0.008066  0.043131  0.044505   \n",
       "175  0.820658 -0.552469 -0.020750 -0.166405 -0.015765  0.021907  0.193634   \n",
       "176  0.777268 -0.430255 -0.095511  0.051361  0.215166 -0.044780  0.161557   \n",
       "177  0.875875 -0.521834  0.287457  0.100805  0.032272 -0.100743 -0.109933   \n",
       "\n",
       "         pca8  \n",
       "0    0.114127  \n",
       "1   -0.135043  \n",
       "2   -0.086726  \n",
       "3   -0.093214  \n",
       "4   -0.035410  \n",
       "..        ...  \n",
       "173  0.070463  \n",
       "174  0.067033  \n",
       "175 -0.036957  \n",
       "176 -0.064202  \n",
       "177  0.121912  \n",
       "\n",
       "[178 rows x 8 columns]"
      ]
     },
     "execution_count": 22,
     "metadata": {},
     "output_type": "execute_result"
    }
   ],
   "source": [
    "finalDf_norm_8 = pd.DataFrame(pca_norm_values[:, 0:9])\n",
    "finalDf_norm_8.columns = ['pca1', 'pca2', 'pca3', 'pca4', 'pca5', 'pca6', 'pca7', 'pca8']\n",
    "finalDf_norm_8"
   ]
  },
  {
   "cell_type": "markdown",
   "id": "60073c25",
   "metadata": {},
   "source": [
    "### Agglomerative for normalized data and 3 principal components"
   ]
  },
  {
   "cell_type": "code",
   "execution_count": 23,
   "id": "0ad9c62c",
   "metadata": {
    "ExecuteTime": {
     "end_time": "2023-06-04T06:42:49.840782Z",
     "start_time": "2023-06-04T06:42:48.921426Z"
    }
   },
   "outputs": [
    {
     "data": {
      "image/png": "[encoded data removed]",
      "text/plain": [
       "<Figure size 1200x400 with 1 Axes>"
      ]
     },
     "metadata": {},
     "output_type": "display_data"
    }
   ],
   "source": [
    "from scipy.cluster.hierarchy import linkage \n",
    "import scipy.cluster.hierarchy as sch # for creating dendrogram \n",
    "#p = np.array(df_norm) # converting into numpy array format \n",
    "z = linkage(finalDf_norm_3, method=\"average\",metric=\"euclidean\")\n",
    "plt.figure(figsize=(15, 5))\n",
    "plt.title('Hierarchical Clustering Dendrogram')\n",
    "plt.xlabel('Index')\n",
    "plt.ylabel('Distance')\n",
    "sch.dendrogram(\n",
    "    z,\n",
    "    #leaf_rotation=6.,  # rotates the x axis labels\n",
    "    #leaf_font_size=15.,  # font size for the x axis labels\n",
    ")\n",
    "plt.show()    "
   ]
  },
  {
   "cell_type": "code",
   "execution_count": 24,
   "id": "e152aa07",
   "metadata": {
    "ExecuteTime": {
     "end_time": "2023-06-04T06:42:49.871769Z",
     "start_time": "2023-06-04T06:42:49.842785Z"
    }
   },
   "outputs": [
    {
     "data": {
      "text/html": [
       "<div>\n",
       "<style scoped>\n",
       "    .dataframe tbody tr th:only-of-type {\n",
       "        vertical-align: middle;\n",
       "    }\n",
       "\n",
       "    .dataframe tbody tr th {\n",
       "        vertical-align: top;\n",
       "    }\n",
       "\n",
       "    .dataframe thead th {\n",
       "        text-align: right;\n",
       "    }\n",
       "</style>\n",
       "<table border=\"1\" class=\"dataframe\">\n",
       "  <thead>\n",
       "    <tr style=\"text-align: right;\">\n",
       "      <th></th>\n",
       "      <th>pca1</th>\n",
       "      <th>pca2</th>\n",
       "      <th>pca3</th>\n",
       "      <th>Clusters</th>\n",
       "    </tr>\n",
       "  </thead>\n",
       "  <tbody>\n",
       "    <tr>\n",
       "      <th>0</th>\n",
       "      <td>-0.847604</td>\n",
       "      <td>-0.243146</td>\n",
       "      <td>0.029752</td>\n",
       "      <td>2</td>\n",
       "    </tr>\n",
       "    <tr>\n",
       "      <th>1</th>\n",
       "      <td>-0.678651</td>\n",
       "      <td>-0.005712</td>\n",
       "      <td>-0.283970</td>\n",
       "      <td>2</td>\n",
       "    </tr>\n",
       "    <tr>\n",
       "      <th>2</th>\n",
       "      <td>-0.700372</td>\n",
       "      <td>-0.183868</td>\n",
       "      <td>0.197457</td>\n",
       "      <td>2</td>\n",
       "    </tr>\n",
       "    <tr>\n",
       "      <th>3</th>\n",
       "      <td>-0.936076</td>\n",
       "      <td>-0.566967</td>\n",
       "      <td>0.093919</td>\n",
       "      <td>2</td>\n",
       "    </tr>\n",
       "    <tr>\n",
       "      <th>4</th>\n",
       "      <td>-0.454077</td>\n",
       "      <td>-0.063348</td>\n",
       "      <td>0.286092</td>\n",
       "      <td>2</td>\n",
       "    </tr>\n",
       "    <tr>\n",
       "      <th>...</th>\n",
       "      <td>...</td>\n",
       "      <td>...</td>\n",
       "      <td>...</td>\n",
       "      <td>...</td>\n",
       "    </tr>\n",
       "    <tr>\n",
       "      <th>173</th>\n",
       "      <td>0.898916</td>\n",
       "      <td>-0.482112</td>\n",
       "      <td>0.203259</td>\n",
       "      <td>1</td>\n",
       "    </tr>\n",
       "    <tr>\n",
       "      <th>174</th>\n",
       "      <td>0.785427</td>\n",
       "      <td>-0.353231</td>\n",
       "      <td>0.088418</td>\n",
       "      <td>1</td>\n",
       "    </tr>\n",
       "    <tr>\n",
       "      <th>175</th>\n",
       "      <td>0.820658</td>\n",
       "      <td>-0.552469</td>\n",
       "      <td>-0.020750</td>\n",
       "      <td>1</td>\n",
       "    </tr>\n",
       "    <tr>\n",
       "      <th>176</th>\n",
       "      <td>0.777268</td>\n",
       "      <td>-0.430255</td>\n",
       "      <td>-0.095511</td>\n",
       "      <td>1</td>\n",
       "    </tr>\n",
       "    <tr>\n",
       "      <th>177</th>\n",
       "      <td>0.875875</td>\n",
       "      <td>-0.521834</td>\n",
       "      <td>0.287457</td>\n",
       "      <td>1</td>\n",
       "    </tr>\n",
       "  </tbody>\n",
       "</table>\n",
       "<p>178 rows × 4 columns</p>\n",
       "</div>"
      ],
      "text/plain": [
       "         pca1      pca2      pca3  Clusters\n",
       "0   -0.847604 -0.243146  0.029752         2\n",
       "1   -0.678651 -0.005712 -0.283970         2\n",
       "2   -0.700372 -0.183868  0.197457         2\n",
       "3   -0.936076 -0.566967  0.093919         2\n",
       "4   -0.454077 -0.063348  0.286092         2\n",
       "..        ...       ...       ...       ...\n",
       "173  0.898916 -0.482112  0.203259         1\n",
       "174  0.785427 -0.353231  0.088418         1\n",
       "175  0.820658 -0.552469 -0.020750         1\n",
       "176  0.777268 -0.430255 -0.095511         1\n",
       "177  0.875875 -0.521834  0.287457         1\n",
       "\n",
       "[178 rows x 4 columns]"
      ]
     },
     "execution_count": 24,
     "metadata": {},
     "output_type": "execute_result"
    }
   ],
   "source": [
    "from sklearn.cluster import AgglomerativeClustering \n",
    "import warnings \n",
    "warnings.filterwarnings('ignore')\n",
    "h_complete = AgglomerativeClustering(n_clusters=3, linkage='average',affinity = \"euclidean\").fit(finalDf_norm_3) \n",
    "\n",
    "cluster_labels=pd.Series(h_complete.labels_)\n",
    "cluster_labels\n",
    "finalDf_norm_3['Clusters']=cluster_labels # creating a  new column and assigning it to new column \n",
    "finalDf_norm_3  "
   ]
  },
  {
   "cell_type": "code",
   "execution_count": 25,
   "id": "7216b51b",
   "metadata": {
    "ExecuteTime": {
     "end_time": "2023-06-04T06:42:50.153041Z",
     "start_time": "2023-06-04T06:42:49.874701Z"
    }
   },
   "outputs": [
    {
     "data": {
      "text/plain": [
       "Text(0.5, 1.0, 'Clusters using Agglomerative')"
      ]
     },
     "execution_count": 25,
     "metadata": {},
     "output_type": "execute_result"
    },
    {
     "data": {
      "image/png": "[encoded data removed]",
      "text/plain": [
       "<Figure size 640x480 with 2 Axes>"
      ]
     },
     "metadata": {},
     "output_type": "display_data"
    }
   ],
   "source": [
    "finalDf_norm_3.plot(x=\"pca1\",y =\"pca2\",c=cluster_labels,kind=\"scatter\",s=30 ,cmap=plt.cm.coolwarm) \n",
    "plt.title('Clusters using Agglomerative') "
   ]
  },
  {
   "cell_type": "markdown",
   "id": "3c2966bd",
   "metadata": {},
   "source": [
    "### Agglomerative for normalized data and 8 principal components"
   ]
  },
  {
   "cell_type": "code",
   "execution_count": 26,
   "id": "44a9781a",
   "metadata": {
    "ExecuteTime": {
     "end_time": "2023-06-04T06:42:51.013508Z",
     "start_time": "2023-06-04T06:42:50.155844Z"
    }
   },
   "outputs": [
    {
     "data": {
      "image/png": "[encoded data removed]",
      "text/plain": [
       "<Figure size 1200x400 with 1 Axes>"
      ]
     },
     "metadata": {},
     "output_type": "display_data"
    }
   ],
   "source": [
    "from scipy.cluster.hierarchy import linkage \n",
    "import scipy.cluster.hierarchy as sch # for creating dendrogram \n",
    "#p = np.array(df_norm) # converting into numpy array format \n",
    "z = linkage(finalDf_norm_8, method=\"average\",metric=\"euclidean\")\n",
    "plt.figure(figsize=(15, 5))\n",
    "plt.title('Hierarchical Clustering Dendrogram')\n",
    "plt.xlabel('Index')\n",
    "plt.ylabel('Distance')\n",
    "sch.dendrogram(\n",
    "    z,\n",
    "    #leaf_rotation=6.,  # rotates the x axis labels\n",
    "    #leaf_font_size=15.,  # font size for the x axis labels\n",
    ")\n",
    "plt.show()      "
   ]
  },
  {
   "cell_type": "code",
   "execution_count": 27,
   "id": "921df39e",
   "metadata": {
    "ExecuteTime": {
     "end_time": "2023-06-04T06:42:51.060567Z",
     "start_time": "2023-06-04T06:42:51.023454Z"
    }
   },
   "outputs": [
    {
     "data": {
      "text/html": [
       "<div>\n",
       "<style scoped>\n",
       "    .dataframe tbody tr th:only-of-type {\n",
       "        vertical-align: middle;\n",
       "    }\n",
       "\n",
       "    .dataframe tbody tr th {\n",
       "        vertical-align: top;\n",
       "    }\n",
       "\n",
       "    .dataframe thead th {\n",
       "        text-align: right;\n",
       "    }\n",
       "</style>\n",
       "<table border=\"1\" class=\"dataframe\">\n",
       "  <thead>\n",
       "    <tr style=\"text-align: right;\">\n",
       "      <th></th>\n",
       "      <th>pca1</th>\n",
       "      <th>pca2</th>\n",
       "      <th>pca3</th>\n",
       "      <th>pca4</th>\n",
       "      <th>pca5</th>\n",
       "      <th>pca6</th>\n",
       "      <th>pca7</th>\n",
       "      <th>pca8</th>\n",
       "      <th>Clusters</th>\n",
       "    </tr>\n",
       "  </thead>\n",
       "  <tbody>\n",
       "    <tr>\n",
       "      <th>0</th>\n",
       "      <td>-0.847604</td>\n",
       "      <td>-0.243146</td>\n",
       "      <td>0.029752</td>\n",
       "      <td>-0.047430</td>\n",
       "      <td>-0.002728</td>\n",
       "      <td>0.038810</td>\n",
       "      <td>0.049146</td>\n",
       "      <td>0.114127</td>\n",
       "      <td>0</td>\n",
       "    </tr>\n",
       "    <tr>\n",
       "      <th>1</th>\n",
       "      <td>-0.678651</td>\n",
       "      <td>-0.005712</td>\n",
       "      <td>-0.283970</td>\n",
       "      <td>0.001458</td>\n",
       "      <td>-0.248171</td>\n",
       "      <td>-0.026104</td>\n",
       "      <td>-0.013032</td>\n",
       "      <td>-0.135043</td>\n",
       "      <td>0</td>\n",
       "    </tr>\n",
       "    <tr>\n",
       "      <th>2</th>\n",
       "      <td>-0.700372</td>\n",
       "      <td>-0.183868</td>\n",
       "      <td>0.197457</td>\n",
       "      <td>0.004297</td>\n",
       "      <td>0.049228</td>\n",
       "      <td>-0.044054</td>\n",
       "      <td>0.141187</td>\n",
       "      <td>-0.086726</td>\n",
       "      <td>0</td>\n",
       "    </tr>\n",
       "    <tr>\n",
       "      <th>3</th>\n",
       "      <td>-0.936076</td>\n",
       "      <td>-0.566967</td>\n",
       "      <td>0.093919</td>\n",
       "      <td>-0.110809</td>\n",
       "      <td>0.092336</td>\n",
       "      <td>-0.106658</td>\n",
       "      <td>-0.071420</td>\n",
       "      <td>-0.093214</td>\n",
       "      <td>0</td>\n",
       "    </tr>\n",
       "    <tr>\n",
       "      <th>4</th>\n",
       "      <td>-0.454077</td>\n",
       "      <td>-0.063348</td>\n",
       "      <td>0.286092</td>\n",
       "      <td>0.179782</td>\n",
       "      <td>0.008012</td>\n",
       "      <td>0.182285</td>\n",
       "      <td>0.067237</td>\n",
       "      <td>-0.035410</td>\n",
       "      <td>0</td>\n",
       "    </tr>\n",
       "    <tr>\n",
       "      <th>...</th>\n",
       "      <td>...</td>\n",
       "      <td>...</td>\n",
       "      <td>...</td>\n",
       "      <td>...</td>\n",
       "      <td>...</td>\n",
       "      <td>...</td>\n",
       "      <td>...</td>\n",
       "      <td>...</td>\n",
       "      <td>...</td>\n",
       "    </tr>\n",
       "    <tr>\n",
       "      <th>173</th>\n",
       "      <td>0.898916</td>\n",
       "      <td>-0.482112</td>\n",
       "      <td>0.203259</td>\n",
       "      <td>0.012476</td>\n",
       "      <td>-0.342452</td>\n",
       "      <td>-0.032776</td>\n",
       "      <td>0.066883</td>\n",
       "      <td>0.070463</td>\n",
       "      <td>1</td>\n",
       "    </tr>\n",
       "    <tr>\n",
       "      <th>174</th>\n",
       "      <td>0.785427</td>\n",
       "      <td>-0.353231</td>\n",
       "      <td>0.088418</td>\n",
       "      <td>-0.075360</td>\n",
       "      <td>0.008066</td>\n",
       "      <td>0.043131</td>\n",
       "      <td>0.044505</td>\n",
       "      <td>0.067033</td>\n",
       "      <td>1</td>\n",
       "    </tr>\n",
       "    <tr>\n",
       "      <th>175</th>\n",
       "      <td>0.820658</td>\n",
       "      <td>-0.552469</td>\n",
       "      <td>-0.020750</td>\n",
       "      <td>-0.166405</td>\n",
       "      <td>-0.015765</td>\n",
       "      <td>0.021907</td>\n",
       "      <td>0.193634</td>\n",
       "      <td>-0.036957</td>\n",
       "      <td>1</td>\n",
       "    </tr>\n",
       "    <tr>\n",
       "      <th>176</th>\n",
       "      <td>0.777268</td>\n",
       "      <td>-0.430255</td>\n",
       "      <td>-0.095511</td>\n",
       "      <td>0.051361</td>\n",
       "      <td>0.215166</td>\n",
       "      <td>-0.044780</td>\n",
       "      <td>0.161557</td>\n",
       "      <td>-0.064202</td>\n",
       "      <td>1</td>\n",
       "    </tr>\n",
       "    <tr>\n",
       "      <th>177</th>\n",
       "      <td>0.875875</td>\n",
       "      <td>-0.521834</td>\n",
       "      <td>0.287457</td>\n",
       "      <td>0.100805</td>\n",
       "      <td>0.032272</td>\n",
       "      <td>-0.100743</td>\n",
       "      <td>-0.109933</td>\n",
       "      <td>0.121912</td>\n",
       "      <td>1</td>\n",
       "    </tr>\n",
       "  </tbody>\n",
       "</table>\n",
       "<p>178 rows × 9 columns</p>\n",
       "</div>"
      ],
      "text/plain": [
       "         pca1      pca2      pca3      pca4      pca5      pca6      pca7  \\\n",
       "0   -0.847604 -0.243146  0.029752 -0.047430 -0.002728  0.038810  0.049146   \n",
       "1   -0.678651 -0.005712 -0.283970  0.001458 -0.248171 -0.026104 -0.013032   \n",
       "2   -0.700372 -0.183868  0.197457  0.004297  0.049228 -0.044054  0.141187   \n",
       "3   -0.936076 -0.566967  0.093919 -0.110809  0.092336 -0.106658 -0.071420   \n",
       "4   -0.454077 -0.063348  0.286092  0.179782  0.008012  0.182285  0.067237   \n",
       "..        ...       ...       ...       ...       ...       ...       ...   \n",
       "173  0.898916 -0.482112  0.203259  0.012476 -0.342452 -0.032776  0.066883   \n",
       "174  0.785427 -0.353231  0.088418 -0.075360  0.008066  0.043131  0.044505   \n",
       "175  0.820658 -0.552469 -0.020750 -0.166405 -0.015765  0.021907  0.193634   \n",
       "176  0.777268 -0.430255 -0.095511  0.051361  0.215166 -0.044780  0.161557   \n",
       "177  0.875875 -0.521834  0.287457  0.100805  0.032272 -0.100743 -0.109933   \n",
       "\n",
       "         pca8  Clusters  \n",
       "0    0.114127         0  \n",
       "1   -0.135043         0  \n",
       "2   -0.086726         0  \n",
       "3   -0.093214         0  \n",
       "4   -0.035410         0  \n",
       "..        ...       ...  \n",
       "173  0.070463         1  \n",
       "174  0.067033         1  \n",
       "175 -0.036957         1  \n",
       "176 -0.064202         1  \n",
       "177  0.121912         1  \n",
       "\n",
       "[178 rows x 9 columns]"
      ]
     },
     "execution_count": 27,
     "metadata": {},
     "output_type": "execute_result"
    }
   ],
   "source": [
    "from sklearn.cluster import AgglomerativeClustering \n",
    "import warnings \n",
    "warnings.filterwarnings('ignore')\n",
    "h_complete = AgglomerativeClustering(n_clusters=3, linkage='average',affinity = \"euclidean\").fit(finalDf_norm_8) \n",
    "\n",
    "cluster_labels=pd.Series(h_complete.labels_)\n",
    "cluster_labels\n",
    "finalDf_norm_8['Clusters']=cluster_labels # creating a  new column and assigning it to new column \n",
    "finalDf_norm_8  "
   ]
  },
  {
   "cell_type": "code",
   "execution_count": 28,
   "id": "47029366",
   "metadata": {
    "ExecuteTime": {
     "end_time": "2023-06-04T06:42:51.342820Z",
     "start_time": "2023-06-04T06:42:51.063573Z"
    }
   },
   "outputs": [
    {
     "data": {
      "text/plain": [
       "Text(0.5, 1.0, 'Clusters using Agglomerative')"
      ]
     },
     "execution_count": 28,
     "metadata": {},
     "output_type": "execute_result"
    },
    {
     "data": {
      "image/png": "[encoded data removed]",
      "text/plain": [
       "<Figure size 640x480 with 2 Axes>"
      ]
     },
     "metadata": {},
     "output_type": "display_data"
    }
   ],
   "source": [
    "finalDf_norm_8.plot(x=\"pca1\",y =\"pca2\",c=cluster_labels,kind=\"scatter\",s=30 ,cmap=plt.cm.coolwarm) \n",
    "plt.title('Clusters using Agglomerative') "
   ]
  },
  {
   "cell_type": "markdown",
   "id": "a3eae82f",
   "metadata": {},
   "source": [
    "#### No noticeable differences in clustering when checked with 3 and 8 principal components."
   ]
  },
  {
   "cell_type": "markdown",
   "id": "e923cce7",
   "metadata": {},
   "source": [
    "## Apply PCA and Agglomerative clustering on the Standardized data"
   ]
  },
  {
   "cell_type": "code",
   "execution_count": 29,
   "id": "45a26491",
   "metadata": {
    "ExecuteTime": {
     "end_time": "2023-06-04T06:42:51.357785Z",
     "start_time": "2023-06-04T06:42:51.345816Z"
    }
   },
   "outputs": [
    {
     "data": {
      "text/plain": [
       "array([[-3.5229339 , -1.45309844, -0.16479549, ..., -0.30071618,\n",
       "         0.57387557,  0.05563728],\n",
       "       [-2.52885806,  0.33001925, -2.02670665, ..., -0.88430941,\n",
       "        -0.02971648,  1.01037189],\n",
       "       [-2.78502898, -1.03693595,  0.9832377 , ...,  0.46884161,\n",
       "         0.4883054 , -0.26895705],\n",
       "       ...,\n",
       "       [ 3.02727243, -2.75604024, -0.94080304, ...,  0.00529036,\n",
       "         0.73302611,  0.05254455],\n",
       "       [ 2.75522166, -2.29378408, -0.55047368, ...,  1.01256231,\n",
       "         0.75542325,  0.42651198],\n",
       "       [ 3.49633565, -2.76060799,  1.01315115, ...,  0.37722337,\n",
       "         0.01530664, -0.32500213]])"
      ]
     },
     "execution_count": 29,
     "metadata": {},
     "output_type": "execute_result"
    }
   ],
   "source": [
    "pca_ss = PCA(n_components = 8)\n",
    "pca_ss_values = pca_ss.fit_transform(data_ss)\n",
    "pca_ss_values"
   ]
  },
  {
   "cell_type": "code",
   "execution_count": 30,
   "id": "4cf6d87c",
   "metadata": {
    "ExecuteTime": {
     "end_time": "2023-06-04T06:42:51.373739Z",
     "start_time": "2023-06-04T06:42:51.360772Z"
    }
   },
   "outputs": [
    {
     "data": {
      "text/plain": [
       "array([[ 0.39366953, -0.13632501,  0.22267638, -0.00225793,  0.22429849,\n",
       "        -0.12463016, -0.35926404, -0.39071171,  0.2670012 , -0.2790625 ,\n",
       "         0.08931829, -0.27682265, -0.35052618, -0.26951525],\n",
       "       [-0.00569041, -0.48416087, -0.22359095, -0.31585588,  0.01161574,\n",
       "        -0.30055143, -0.06711983,  0.00131345, -0.0269887 , -0.04122256,\n",
       "        -0.52978274,  0.27790735,  0.16277625, -0.36605886],\n",
       "       [ 0.00121795, -0.20740081,  0.08879606,  0.62610236,  0.6119896 ,\n",
       "         0.13098458,  0.14650775,  0.15096275,  0.16997551,  0.14987959,\n",
       "        -0.1372663 ,  0.08532854,  0.16620436, -0.12668685],\n",
       "       [ 0.12246373, -0.08191848,  0.46988824, -0.24984122,  0.07199322,\n",
       "        -0.16321412,  0.19098521,  0.14461667, -0.32801272,  0.46275771,\n",
       "         0.07211248, -0.43466618,  0.15672341, -0.2557949 ],\n",
       "       [ 0.15758395, -0.25089415, -0.18860015, -0.0935236 ,  0.0465675 ,\n",
       "         0.77833048, -0.14466563, -0.11200553, -0.43257916,  0.0915882 ,\n",
       "        -0.0462696 , -0.02986657, -0.14419358, -0.08440794],\n",
       "       [ 0.20033864, -0.13517139, -0.59841948, -0.10799983,  0.08811224,\n",
       "        -0.14483831,  0.14809748,  0.06247252,  0.25868639,  0.46627764,\n",
       "         0.42525454, -0.01565089, -0.21770365, -0.0665655 ],\n",
       "       [-0.05938234, -0.09269887,  0.3743698 , -0.16708856, -0.26872469,\n",
       "         0.32957951, -0.03789829, -0.06773223,  0.61111195,  0.42292282,\n",
       "        -0.18613617,  0.19204101, -0.0785098 ,  0.0542037 ],\n",
       "       [-0.07179553, -0.42154435, -0.08757556,  0.17208034, -0.41324857,\n",
       "         0.14881189,  0.36343884,  0.175405  ,  0.23075135, -0.3437392 ,\n",
       "         0.04069617, -0.48362564,  0.06865116, -0.11146671]])"
      ]
     },
     "execution_count": 30,
     "metadata": {},
     "output_type": "execute_result"
    }
   ],
   "source": [
    "#loadings or weights\n",
    "pca_ss.components_"
   ]
  },
  {
   "cell_type": "code",
   "execution_count": 31,
   "id": "bee51d50",
   "metadata": {
    "ExecuteTime": {
     "end_time": "2023-06-04T06:42:51.389698Z",
     "start_time": "2023-06-04T06:42:51.376729Z"
    }
   },
   "outputs": [
    {
     "data": {
      "text/plain": [
       "array([0.39542486, 0.17836259, 0.10329102, 0.06627984, 0.06267875,\n",
       "       0.0480556 , 0.03955707, 0.02500244])"
      ]
     },
     "execution_count": 31,
     "metadata": {},
     "output_type": "execute_result"
    }
   ],
   "source": [
    "# The amount of variance that each PCA explains is \n",
    "var_ss = pca_ss.explained_variance_ratio_\n",
    "var_ss"
   ]
  },
  {
   "cell_type": "code",
   "execution_count": 32,
   "id": "0eddb694",
   "metadata": {
    "ExecuteTime": {
     "end_time": "2023-06-04T06:42:51.405169Z",
     "start_time": "2023-06-04T06:42:51.393683Z"
    }
   },
   "outputs": [
    {
     "data": {
      "text/plain": [
       "array([39.54, 57.38, 67.71, 74.34, 80.61, 85.42, 89.38, 91.88])"
      ]
     },
     "execution_count": 32,
     "metadata": {},
     "output_type": "execute_result"
    }
   ],
   "source": [
    "# Cumulative variance \n",
    "var1_ss = np.cumsum(np.round(var_ss,decimals = 4)*100)\n",
    "var1_ss"
   ]
  },
  {
   "cell_type": "markdown",
   "id": "3169c472",
   "metadata": {},
   "source": [
    "#### Just like above I am doing for 3 principal components and 8 principal components"
   ]
  },
  {
   "cell_type": "code",
   "execution_count": 33,
   "id": "9411ee7e",
   "metadata": {
    "ExecuteTime": {
     "end_time": "2023-06-04T06:42:51.436596Z",
     "start_time": "2023-06-04T06:42:51.408156Z"
    }
   },
   "outputs": [
    {
     "data": {
      "text/html": [
       "<div>\n",
       "<style scoped>\n",
       "    .dataframe tbody tr th:only-of-type {\n",
       "        vertical-align: middle;\n",
       "    }\n",
       "\n",
       "    .dataframe tbody tr th {\n",
       "        vertical-align: top;\n",
       "    }\n",
       "\n",
       "    .dataframe thead th {\n",
       "        text-align: right;\n",
       "    }\n",
       "</style>\n",
       "<table border=\"1\" class=\"dataframe\">\n",
       "  <thead>\n",
       "    <tr style=\"text-align: right;\">\n",
       "      <th></th>\n",
       "      <th>pca1</th>\n",
       "      <th>pca2</th>\n",
       "      <th>pca3</th>\n",
       "    </tr>\n",
       "  </thead>\n",
       "  <tbody>\n",
       "    <tr>\n",
       "      <th>0</th>\n",
       "      <td>-3.522934</td>\n",
       "      <td>-1.453098</td>\n",
       "      <td>-0.164795</td>\n",
       "    </tr>\n",
       "    <tr>\n",
       "      <th>1</th>\n",
       "      <td>-2.528858</td>\n",
       "      <td>0.330019</td>\n",
       "      <td>-2.026707</td>\n",
       "    </tr>\n",
       "    <tr>\n",
       "      <th>2</th>\n",
       "      <td>-2.785029</td>\n",
       "      <td>-1.036936</td>\n",
       "      <td>0.983238</td>\n",
       "    </tr>\n",
       "    <tr>\n",
       "      <th>3</th>\n",
       "      <td>-3.922588</td>\n",
       "      <td>-2.768210</td>\n",
       "      <td>-0.174968</td>\n",
       "    </tr>\n",
       "    <tr>\n",
       "      <th>4</th>\n",
       "      <td>-1.407511</td>\n",
       "      <td>-0.867773</td>\n",
       "      <td>2.025829</td>\n",
       "    </tr>\n",
       "    <tr>\n",
       "      <th>...</th>\n",
       "      <td>...</td>\n",
       "      <td>...</td>\n",
       "      <td>...</td>\n",
       "    </tr>\n",
       "    <tr>\n",
       "      <th>173</th>\n",
       "      <td>3.627996</td>\n",
       "      <td>-2.206617</td>\n",
       "      <td>-0.343668</td>\n",
       "    </tr>\n",
       "    <tr>\n",
       "      <th>174</th>\n",
       "      <td>2.942729</td>\n",
       "      <td>-1.752263</td>\n",
       "      <td>0.207480</td>\n",
       "    </tr>\n",
       "    <tr>\n",
       "      <th>175</th>\n",
       "      <td>3.027272</td>\n",
       "      <td>-2.756040</td>\n",
       "      <td>-0.940803</td>\n",
       "    </tr>\n",
       "    <tr>\n",
       "      <th>176</th>\n",
       "      <td>2.755222</td>\n",
       "      <td>-2.293784</td>\n",
       "      <td>-0.550474</td>\n",
       "    </tr>\n",
       "    <tr>\n",
       "      <th>177</th>\n",
       "      <td>3.496336</td>\n",
       "      <td>-2.760608</td>\n",
       "      <td>1.013151</td>\n",
       "    </tr>\n",
       "  </tbody>\n",
       "</table>\n",
       "<p>178 rows × 3 columns</p>\n",
       "</div>"
      ],
      "text/plain": [
       "         pca1      pca2      pca3\n",
       "0   -3.522934 -1.453098 -0.164795\n",
       "1   -2.528858  0.330019 -2.026707\n",
       "2   -2.785029 -1.036936  0.983238\n",
       "3   -3.922588 -2.768210 -0.174968\n",
       "4   -1.407511 -0.867773  2.025829\n",
       "..        ...       ...       ...\n",
       "173  3.627996 -2.206617 -0.343668\n",
       "174  2.942729 -1.752263  0.207480\n",
       "175  3.027272 -2.756040 -0.940803\n",
       "176  2.755222 -2.293784 -0.550474\n",
       "177  3.496336 -2.760608  1.013151\n",
       "\n",
       "[178 rows x 3 columns]"
      ]
     },
     "execution_count": 33,
     "metadata": {},
     "output_type": "execute_result"
    }
   ],
   "source": [
    "finalDf_ss_3 = pd.DataFrame(pca_ss_values[:, 0:3])\n",
    "finalDf_ss_3.columns = ['pca1', 'pca2', 'pca3']\n",
    "finalDf_ss_3"
   ]
  },
  {
   "cell_type": "code",
   "execution_count": 34,
   "id": "5571c906",
   "metadata": {
    "ExecuteTime": {
     "end_time": "2023-06-04T06:42:51.468538Z",
     "start_time": "2023-06-04T06:42:51.439591Z"
    }
   },
   "outputs": [
    {
     "data": {
      "text/html": [
       "<div>\n",
       "<style scoped>\n",
       "    .dataframe tbody tr th:only-of-type {\n",
       "        vertical-align: middle;\n",
       "    }\n",
       "\n",
       "    .dataframe tbody tr th {\n",
       "        vertical-align: top;\n",
       "    }\n",
       "\n",
       "    .dataframe thead th {\n",
       "        text-align: right;\n",
       "    }\n",
       "</style>\n",
       "<table border=\"1\" class=\"dataframe\">\n",
       "  <thead>\n",
       "    <tr style=\"text-align: right;\">\n",
       "      <th></th>\n",
       "      <th>pca1</th>\n",
       "      <th>pca2</th>\n",
       "      <th>pca3</th>\n",
       "      <th>pca4</th>\n",
       "      <th>pca5</th>\n",
       "      <th>pca6</th>\n",
       "      <th>pca7</th>\n",
       "      <th>pca8</th>\n",
       "    </tr>\n",
       "  </thead>\n",
       "  <tbody>\n",
       "    <tr>\n",
       "      <th>0</th>\n",
       "      <td>-3.522934</td>\n",
       "      <td>-1.453098</td>\n",
       "      <td>-0.164795</td>\n",
       "      <td>-0.013273</td>\n",
       "      <td>0.737345</td>\n",
       "      <td>-0.300716</td>\n",
       "      <td>0.573876</td>\n",
       "      <td>0.055637</td>\n",
       "    </tr>\n",
       "    <tr>\n",
       "      <th>1</th>\n",
       "      <td>-2.528858</td>\n",
       "      <td>0.330019</td>\n",
       "      <td>-2.026707</td>\n",
       "      <td>-0.417144</td>\n",
       "      <td>-0.283214</td>\n",
       "      <td>-0.884309</td>\n",
       "      <td>-0.029716</td>\n",
       "      <td>1.010372</td>\n",
       "    </tr>\n",
       "    <tr>\n",
       "      <th>2</th>\n",
       "      <td>-2.785029</td>\n",
       "      <td>-1.036936</td>\n",
       "      <td>0.983238</td>\n",
       "      <td>0.664232</td>\n",
       "      <td>-0.387565</td>\n",
       "      <td>0.468842</td>\n",
       "      <td>0.488305</td>\n",
       "      <td>-0.268957</td>\n",
       "    </tr>\n",
       "    <tr>\n",
       "      <th>3</th>\n",
       "      <td>-3.922588</td>\n",
       "      <td>-2.768210</td>\n",
       "      <td>-0.174968</td>\n",
       "      <td>0.565088</td>\n",
       "      <td>-0.324360</td>\n",
       "      <td>0.262616</td>\n",
       "      <td>-0.398364</td>\n",
       "      <td>0.618844</td>\n",
       "    </tr>\n",
       "    <tr>\n",
       "      <th>4</th>\n",
       "      <td>-1.407511</td>\n",
       "      <td>-0.867773</td>\n",
       "      <td>2.025829</td>\n",
       "      <td>-0.440906</td>\n",
       "      <td>0.227949</td>\n",
       "      <td>-0.593762</td>\n",
       "      <td>0.447876</td>\n",
       "      <td>0.434937</td>\n",
       "    </tr>\n",
       "    <tr>\n",
       "      <th>...</th>\n",
       "      <td>...</td>\n",
       "      <td>...</td>\n",
       "      <td>...</td>\n",
       "      <td>...</td>\n",
       "      <td>...</td>\n",
       "      <td>...</td>\n",
       "      <td>...</td>\n",
       "      <td>...</td>\n",
       "    </tr>\n",
       "    <tr>\n",
       "      <th>173</th>\n",
       "      <td>3.627996</td>\n",
       "      <td>-2.206617</td>\n",
       "      <td>-0.343668</td>\n",
       "      <td>0.751705</td>\n",
       "      <td>-1.004109</td>\n",
       "      <td>-1.143155</td>\n",
       "      <td>0.843455</td>\n",
       "      <td>-0.206626</td>\n",
       "    </tr>\n",
       "    <tr>\n",
       "      <th>174</th>\n",
       "      <td>2.942729</td>\n",
       "      <td>-1.752263</td>\n",
       "      <td>0.207480</td>\n",
       "      <td>0.399381</td>\n",
       "      <td>0.154223</td>\n",
       "      <td>-0.062465</td>\n",
       "      <td>0.139947</td>\n",
       "      <td>-0.565588</td>\n",
       "    </tr>\n",
       "    <tr>\n",
       "      <th>175</th>\n",
       "      <td>3.027272</td>\n",
       "      <td>-2.756040</td>\n",
       "      <td>-0.940803</td>\n",
       "      <td>0.607758</td>\n",
       "      <td>1.128136</td>\n",
       "      <td>0.005290</td>\n",
       "      <td>0.733026</td>\n",
       "      <td>0.052545</td>\n",
       "    </tr>\n",
       "    <tr>\n",
       "      <th>176</th>\n",
       "      <td>2.755222</td>\n",
       "      <td>-2.293784</td>\n",
       "      <td>-0.550474</td>\n",
       "      <td>-0.391570</td>\n",
       "      <td>1.067083</td>\n",
       "      <td>1.012562</td>\n",
       "      <td>0.755423</td>\n",
       "      <td>0.426512</td>\n",
       "    </tr>\n",
       "    <tr>\n",
       "      <th>177</th>\n",
       "      <td>3.496336</td>\n",
       "      <td>-2.760608</td>\n",
       "      <td>1.013151</td>\n",
       "      <td>0.349630</td>\n",
       "      <td>-1.005136</td>\n",
       "      <td>0.377223</td>\n",
       "      <td>0.015307</td>\n",
       "      <td>-0.325002</td>\n",
       "    </tr>\n",
       "  </tbody>\n",
       "</table>\n",
       "<p>178 rows × 8 columns</p>\n",
       "</div>"
      ],
      "text/plain": [
       "         pca1      pca2      pca3      pca4      pca5      pca6      pca7  \\\n",
       "0   -3.522934 -1.453098 -0.164795 -0.013273  0.737345 -0.300716  0.573876   \n",
       "1   -2.528858  0.330019 -2.026707 -0.417144 -0.283214 -0.884309 -0.029716   \n",
       "2   -2.785029 -1.036936  0.983238  0.664232 -0.387565  0.468842  0.488305   \n",
       "3   -3.922588 -2.768210 -0.174968  0.565088 -0.324360  0.262616 -0.398364   \n",
       "4   -1.407511 -0.867773  2.025829 -0.440906  0.227949 -0.593762  0.447876   \n",
       "..        ...       ...       ...       ...       ...       ...       ...   \n",
       "173  3.627996 -2.206617 -0.343668  0.751705 -1.004109 -1.143155  0.843455   \n",
       "174  2.942729 -1.752263  0.207480  0.399381  0.154223 -0.062465  0.139947   \n",
       "175  3.027272 -2.756040 -0.940803  0.607758  1.128136  0.005290  0.733026   \n",
       "176  2.755222 -2.293784 -0.550474 -0.391570  1.067083  1.012562  0.755423   \n",
       "177  3.496336 -2.760608  1.013151  0.349630 -1.005136  0.377223  0.015307   \n",
       "\n",
       "         pca8  \n",
       "0    0.055637  \n",
       "1    1.010372  \n",
       "2   -0.268957  \n",
       "3    0.618844  \n",
       "4    0.434937  \n",
       "..        ...  \n",
       "173 -0.206626  \n",
       "174 -0.565588  \n",
       "175  0.052545  \n",
       "176  0.426512  \n",
       "177 -0.325002  \n",
       "\n",
       "[178 rows x 8 columns]"
      ]
     },
     "execution_count": 34,
     "metadata": {},
     "output_type": "execute_result"
    }
   ],
   "source": [
    "finalDf_ss_8 = pd.DataFrame(pca_ss_values[:, 0:9])\n",
    "finalDf_ss_8.columns = ['pca1', 'pca2', 'pca3', 'pca4', 'pca5', 'pca6', 'pca7', 'pca8']\n",
    "finalDf_ss_8"
   ]
  },
  {
   "cell_type": "markdown",
   "id": "58ed7cd5",
   "metadata": {},
   "source": [
    "### Agglomerative for standardized data and with 3 principal components"
   ]
  },
  {
   "cell_type": "code",
   "execution_count": 35,
   "id": "9289da3b",
   "metadata": {
    "ExecuteTime": {
     "end_time": "2023-06-04T06:42:52.406581Z",
     "start_time": "2023-06-04T06:42:51.471503Z"
    }
   },
   "outputs": [
    {
     "data": {
      "image/png": "[encoded data removed]",
      "text/plain": [
       "<Figure size 1200x400 with 1 Axes>"
      ]
     },
     "metadata": {},
     "output_type": "display_data"
    }
   ],
   "source": [
    "from scipy.cluster.hierarchy import linkage \n",
    "import scipy.cluster.hierarchy as sch # for creating dendrogram \n",
    "#p = np.array(df_norm) # converting into numpy array format \n",
    "z = linkage(finalDf_ss_3, method=\"average\",metric=\"euclidean\")\n",
    "plt.figure(figsize=(15, 5))\n",
    "plt.title('Hierarchical Clustering Dendrogram')\n",
    "plt.xlabel('Index')\n",
    "plt.ylabel('Distance')\n",
    "sch.dendrogram(\n",
    "    z,\n",
    "    #leaf_rotation=6.,  # rotates the x axis labels\n",
    "    #leaf_font_size=15.,  # font size for the x axis labels\n",
    ")\n",
    "plt.show()  "
   ]
  },
  {
   "cell_type": "code",
   "execution_count": 36,
   "id": "ad8c4d08",
   "metadata": {
    "ExecuteTime": {
     "end_time": "2023-06-04T06:42:52.437522Z",
     "start_time": "2023-06-04T06:42:52.408574Z"
    }
   },
   "outputs": [
    {
     "data": {
      "text/html": [
       "<div>\n",
       "<style scoped>\n",
       "    .dataframe tbody tr th:only-of-type {\n",
       "        vertical-align: middle;\n",
       "    }\n",
       "\n",
       "    .dataframe tbody tr th {\n",
       "        vertical-align: top;\n",
       "    }\n",
       "\n",
       "    .dataframe thead th {\n",
       "        text-align: right;\n",
       "    }\n",
       "</style>\n",
       "<table border=\"1\" class=\"dataframe\">\n",
       "  <thead>\n",
       "    <tr style=\"text-align: right;\">\n",
       "      <th></th>\n",
       "      <th>pca1</th>\n",
       "      <th>pca2</th>\n",
       "      <th>pca3</th>\n",
       "      <th>Clusters</th>\n",
       "    </tr>\n",
       "  </thead>\n",
       "  <tbody>\n",
       "    <tr>\n",
       "      <th>0</th>\n",
       "      <td>-3.522934</td>\n",
       "      <td>-1.453098</td>\n",
       "      <td>-0.164795</td>\n",
       "      <td>0</td>\n",
       "    </tr>\n",
       "    <tr>\n",
       "      <th>1</th>\n",
       "      <td>-2.528858</td>\n",
       "      <td>0.330019</td>\n",
       "      <td>-2.026707</td>\n",
       "      <td>0</td>\n",
       "    </tr>\n",
       "    <tr>\n",
       "      <th>2</th>\n",
       "      <td>-2.785029</td>\n",
       "      <td>-1.036936</td>\n",
       "      <td>0.983238</td>\n",
       "      <td>0</td>\n",
       "    </tr>\n",
       "    <tr>\n",
       "      <th>3</th>\n",
       "      <td>-3.922588</td>\n",
       "      <td>-2.768210</td>\n",
       "      <td>-0.174968</td>\n",
       "      <td>0</td>\n",
       "    </tr>\n",
       "    <tr>\n",
       "      <th>4</th>\n",
       "      <td>-1.407511</td>\n",
       "      <td>-0.867773</td>\n",
       "      <td>2.025829</td>\n",
       "      <td>0</td>\n",
       "    </tr>\n",
       "    <tr>\n",
       "      <th>...</th>\n",
       "      <td>...</td>\n",
       "      <td>...</td>\n",
       "      <td>...</td>\n",
       "      <td>...</td>\n",
       "    </tr>\n",
       "    <tr>\n",
       "      <th>173</th>\n",
       "      <td>3.627996</td>\n",
       "      <td>-2.206617</td>\n",
       "      <td>-0.343668</td>\n",
       "      <td>2</td>\n",
       "    </tr>\n",
       "    <tr>\n",
       "      <th>174</th>\n",
       "      <td>2.942729</td>\n",
       "      <td>-1.752263</td>\n",
       "      <td>0.207480</td>\n",
       "      <td>2</td>\n",
       "    </tr>\n",
       "    <tr>\n",
       "      <th>175</th>\n",
       "      <td>3.027272</td>\n",
       "      <td>-2.756040</td>\n",
       "      <td>-0.940803</td>\n",
       "      <td>2</td>\n",
       "    </tr>\n",
       "    <tr>\n",
       "      <th>176</th>\n",
       "      <td>2.755222</td>\n",
       "      <td>-2.293784</td>\n",
       "      <td>-0.550474</td>\n",
       "      <td>2</td>\n",
       "    </tr>\n",
       "    <tr>\n",
       "      <th>177</th>\n",
       "      <td>3.496336</td>\n",
       "      <td>-2.760608</td>\n",
       "      <td>1.013151</td>\n",
       "      <td>2</td>\n",
       "    </tr>\n",
       "  </tbody>\n",
       "</table>\n",
       "<p>178 rows × 4 columns</p>\n",
       "</div>"
      ],
      "text/plain": [
       "         pca1      pca2      pca3  Clusters\n",
       "0   -3.522934 -1.453098 -0.164795         0\n",
       "1   -2.528858  0.330019 -2.026707         0\n",
       "2   -2.785029 -1.036936  0.983238         0\n",
       "3   -3.922588 -2.768210 -0.174968         0\n",
       "4   -1.407511 -0.867773  2.025829         0\n",
       "..        ...       ...       ...       ...\n",
       "173  3.627996 -2.206617 -0.343668         2\n",
       "174  2.942729 -1.752263  0.207480         2\n",
       "175  3.027272 -2.756040 -0.940803         2\n",
       "176  2.755222 -2.293784 -0.550474         2\n",
       "177  3.496336 -2.760608  1.013151         2\n",
       "\n",
       "[178 rows x 4 columns]"
      ]
     },
     "execution_count": 36,
     "metadata": {},
     "output_type": "execute_result"
    }
   ],
   "source": [
    "from sklearn.cluster import AgglomerativeClustering \n",
    "import warnings \n",
    "warnings.filterwarnings('ignore')\n",
    "h_complete = AgglomerativeClustering(n_clusters=3, linkage='average',affinity = \"euclidean\").fit(finalDf_ss_3) \n",
    "\n",
    "cluster_labels=pd.Series(h_complete.labels_)\n",
    "cluster_labels\n",
    "finalDf_ss_3['Clusters']=cluster_labels # creating a  new column and assigning it to new column \n",
    "finalDf_ss_3  "
   ]
  },
  {
   "cell_type": "code",
   "execution_count": 37,
   "id": "f8cd5aba",
   "metadata": {
    "ExecuteTime": {
     "end_time": "2023-06-04T06:42:52.766131Z",
     "start_time": "2023-06-04T06:42:52.440489Z"
    }
   },
   "outputs": [
    {
     "data": {
      "text/plain": [
       "Text(0.5, 1.0, 'Clusters using Agglomerative')"
      ]
     },
     "execution_count": 37,
     "metadata": {},
     "output_type": "execute_result"
    },
    {
     "data": {
      "image/png": "[encoded data removed]",
      "text/plain": [
       "<Figure size 640x480 with 2 Axes>"
      ]
     },
     "metadata": {},
     "output_type": "display_data"
    }
   ],
   "source": [
    "finalDf_ss_3.plot(x=\"pca1\",y =\"pca2\",c=cluster_labels,kind=\"scatter\",s=30 ,cmap=plt.cm.coolwarm) \n",
    "plt.title('Clusters using Agglomerative') "
   ]
  },
  {
   "cell_type": "markdown",
   "id": "dbbbc9f5",
   "metadata": {},
   "source": [
    "### Agglomerative on the Standardized data and 8 principal components"
   ]
  },
  {
   "cell_type": "code",
   "execution_count": 38,
   "id": "0344fb5f",
   "metadata": {
    "ExecuteTime": {
     "end_time": "2023-06-04T06:42:53.702644Z",
     "start_time": "2023-06-04T06:42:52.768124Z"
    }
   },
   "outputs": [
    {
     "data": {
      "image/png": "[encoded data removed]",
      "text/plain": [
       "<Figure size 1200x400 with 1 Axes>"
      ]
     },
     "metadata": {},
     "output_type": "display_data"
    }
   ],
   "source": [
    "from scipy.cluster.hierarchy import linkage \n",
    "import scipy.cluster.hierarchy as sch # for creating dendrogram \n",
    "#p = np.array(df_norm) # converting into numpy array format \n",
    "z = linkage(finalDf_ss_8, method=\"average\",metric=\"euclidean\")\n",
    "plt.figure(figsize=(15, 5))\n",
    "plt.title('Hierarchical Clustering Dendrogram')\n",
    "plt.xlabel('Index')\n",
    "plt.ylabel('Distance')\n",
    "sch.dendrogram(\n",
    "    z,\n",
    "    #leaf_rotation=6.,  # rotates the x axis labels\n",
    "    #leaf_font_size=15.,  # font size for the x axis labels\n",
    ")\n",
    "plt.show()"
   ]
  },
  {
   "cell_type": "code",
   "execution_count": 39,
   "id": "97819a07",
   "metadata": {
    "ExecuteTime": {
     "end_time": "2023-06-04T06:42:53.734537Z",
     "start_time": "2023-06-04T06:42:53.705616Z"
    }
   },
   "outputs": [
    {
     "data": {
      "text/html": [
       "<div>\n",
       "<style scoped>\n",
       "    .dataframe tbody tr th:only-of-type {\n",
       "        vertical-align: middle;\n",
       "    }\n",
       "\n",
       "    .dataframe tbody tr th {\n",
       "        vertical-align: top;\n",
       "    }\n",
       "\n",
       "    .dataframe thead th {\n",
       "        text-align: right;\n",
       "    }\n",
       "</style>\n",
       "<table border=\"1\" class=\"dataframe\">\n",
       "  <thead>\n",
       "    <tr style=\"text-align: right;\">\n",
       "      <th></th>\n",
       "      <th>pca1</th>\n",
       "      <th>pca2</th>\n",
       "      <th>pca3</th>\n",
       "      <th>pca4</th>\n",
       "      <th>pca5</th>\n",
       "      <th>pca6</th>\n",
       "      <th>pca7</th>\n",
       "      <th>pca8</th>\n",
       "      <th>Clusters</th>\n",
       "    </tr>\n",
       "  </thead>\n",
       "  <tbody>\n",
       "    <tr>\n",
       "      <th>0</th>\n",
       "      <td>-3.522934</td>\n",
       "      <td>-1.453098</td>\n",
       "      <td>-0.164795</td>\n",
       "      <td>-0.013273</td>\n",
       "      <td>0.737345</td>\n",
       "      <td>-0.300716</td>\n",
       "      <td>0.573876</td>\n",
       "      <td>0.055637</td>\n",
       "      <td>0</td>\n",
       "    </tr>\n",
       "    <tr>\n",
       "      <th>1</th>\n",
       "      <td>-2.528858</td>\n",
       "      <td>0.330019</td>\n",
       "      <td>-2.026707</td>\n",
       "      <td>-0.417144</td>\n",
       "      <td>-0.283214</td>\n",
       "      <td>-0.884309</td>\n",
       "      <td>-0.029716</td>\n",
       "      <td>1.010372</td>\n",
       "      <td>0</td>\n",
       "    </tr>\n",
       "    <tr>\n",
       "      <th>2</th>\n",
       "      <td>-2.785029</td>\n",
       "      <td>-1.036936</td>\n",
       "      <td>0.983238</td>\n",
       "      <td>0.664232</td>\n",
       "      <td>-0.387565</td>\n",
       "      <td>0.468842</td>\n",
       "      <td>0.488305</td>\n",
       "      <td>-0.268957</td>\n",
       "      <td>0</td>\n",
       "    </tr>\n",
       "    <tr>\n",
       "      <th>3</th>\n",
       "      <td>-3.922588</td>\n",
       "      <td>-2.768210</td>\n",
       "      <td>-0.174968</td>\n",
       "      <td>0.565088</td>\n",
       "      <td>-0.324360</td>\n",
       "      <td>0.262616</td>\n",
       "      <td>-0.398364</td>\n",
       "      <td>0.618844</td>\n",
       "      <td>0</td>\n",
       "    </tr>\n",
       "    <tr>\n",
       "      <th>4</th>\n",
       "      <td>-1.407511</td>\n",
       "      <td>-0.867773</td>\n",
       "      <td>2.025829</td>\n",
       "      <td>-0.440906</td>\n",
       "      <td>0.227949</td>\n",
       "      <td>-0.593762</td>\n",
       "      <td>0.447876</td>\n",
       "      <td>0.434937</td>\n",
       "      <td>0</td>\n",
       "    </tr>\n",
       "    <tr>\n",
       "      <th>...</th>\n",
       "      <td>...</td>\n",
       "      <td>...</td>\n",
       "      <td>...</td>\n",
       "      <td>...</td>\n",
       "      <td>...</td>\n",
       "      <td>...</td>\n",
       "      <td>...</td>\n",
       "      <td>...</td>\n",
       "      <td>...</td>\n",
       "    </tr>\n",
       "    <tr>\n",
       "      <th>173</th>\n",
       "      <td>3.627996</td>\n",
       "      <td>-2.206617</td>\n",
       "      <td>-0.343668</td>\n",
       "      <td>0.751705</td>\n",
       "      <td>-1.004109</td>\n",
       "      <td>-1.143155</td>\n",
       "      <td>0.843455</td>\n",
       "      <td>-0.206626</td>\n",
       "      <td>2</td>\n",
       "    </tr>\n",
       "    <tr>\n",
       "      <th>174</th>\n",
       "      <td>2.942729</td>\n",
       "      <td>-1.752263</td>\n",
       "      <td>0.207480</td>\n",
       "      <td>0.399381</td>\n",
       "      <td>0.154223</td>\n",
       "      <td>-0.062465</td>\n",
       "      <td>0.139947</td>\n",
       "      <td>-0.565588</td>\n",
       "      <td>2</td>\n",
       "    </tr>\n",
       "    <tr>\n",
       "      <th>175</th>\n",
       "      <td>3.027272</td>\n",
       "      <td>-2.756040</td>\n",
       "      <td>-0.940803</td>\n",
       "      <td>0.607758</td>\n",
       "      <td>1.128136</td>\n",
       "      <td>0.005290</td>\n",
       "      <td>0.733026</td>\n",
       "      <td>0.052545</td>\n",
       "      <td>2</td>\n",
       "    </tr>\n",
       "    <tr>\n",
       "      <th>176</th>\n",
       "      <td>2.755222</td>\n",
       "      <td>-2.293784</td>\n",
       "      <td>-0.550474</td>\n",
       "      <td>-0.391570</td>\n",
       "      <td>1.067083</td>\n",
       "      <td>1.012562</td>\n",
       "      <td>0.755423</td>\n",
       "      <td>0.426512</td>\n",
       "      <td>2</td>\n",
       "    </tr>\n",
       "    <tr>\n",
       "      <th>177</th>\n",
       "      <td>3.496336</td>\n",
       "      <td>-2.760608</td>\n",
       "      <td>1.013151</td>\n",
       "      <td>0.349630</td>\n",
       "      <td>-1.005136</td>\n",
       "      <td>0.377223</td>\n",
       "      <td>0.015307</td>\n",
       "      <td>-0.325002</td>\n",
       "      <td>2</td>\n",
       "    </tr>\n",
       "  </tbody>\n",
       "</table>\n",
       "<p>178 rows × 9 columns</p>\n",
       "</div>"
      ],
      "text/plain": [
       "         pca1      pca2      pca3      pca4      pca5      pca6      pca7  \\\n",
       "0   -3.522934 -1.453098 -0.164795 -0.013273  0.737345 -0.300716  0.573876   \n",
       "1   -2.528858  0.330019 -2.026707 -0.417144 -0.283214 -0.884309 -0.029716   \n",
       "2   -2.785029 -1.036936  0.983238  0.664232 -0.387565  0.468842  0.488305   \n",
       "3   -3.922588 -2.768210 -0.174968  0.565088 -0.324360  0.262616 -0.398364   \n",
       "4   -1.407511 -0.867773  2.025829 -0.440906  0.227949 -0.593762  0.447876   \n",
       "..        ...       ...       ...       ...       ...       ...       ...   \n",
       "173  3.627996 -2.206617 -0.343668  0.751705 -1.004109 -1.143155  0.843455   \n",
       "174  2.942729 -1.752263  0.207480  0.399381  0.154223 -0.062465  0.139947   \n",
       "175  3.027272 -2.756040 -0.940803  0.607758  1.128136  0.005290  0.733026   \n",
       "176  2.755222 -2.293784 -0.550474 -0.391570  1.067083  1.012562  0.755423   \n",
       "177  3.496336 -2.760608  1.013151  0.349630 -1.005136  0.377223  0.015307   \n",
       "\n",
       "         pca8  Clusters  \n",
       "0    0.055637         0  \n",
       "1    1.010372         0  \n",
       "2   -0.268957         0  \n",
       "3    0.618844         0  \n",
       "4    0.434937         0  \n",
       "..        ...       ...  \n",
       "173 -0.206626         2  \n",
       "174 -0.565588         2  \n",
       "175  0.052545         2  \n",
       "176  0.426512         2  \n",
       "177 -0.325002         2  \n",
       "\n",
       "[178 rows x 9 columns]"
      ]
     },
     "execution_count": 39,
     "metadata": {},
     "output_type": "execute_result"
    }
   ],
   "source": [
    "from sklearn.cluster import AgglomerativeClustering \n",
    "import warnings \n",
    "warnings.filterwarnings('ignore')\n",
    "h_complete = AgglomerativeClustering(n_clusters=3, linkage='average',affinity = \"euclidean\").fit(finalDf_ss_8) \n",
    "\n",
    "cluster_labels=pd.Series(h_complete.labels_)\n",
    "cluster_labels\n",
    "finalDf_ss_8['Clusters']=cluster_labels # creating a  new column and assigning it to new column \n",
    "finalDf_ss_8  "
   ]
  },
  {
   "cell_type": "code",
   "execution_count": 40,
   "id": "2c9f5512",
   "metadata": {
    "ExecuteTime": {
     "end_time": "2023-06-04T06:42:54.030747Z",
     "start_time": "2023-06-04T06:42:53.737530Z"
    }
   },
   "outputs": [
    {
     "data": {
      "text/plain": [
       "Text(0.5, 1.0, 'Clusters using Agglomerative')"
      ]
     },
     "execution_count": 40,
     "metadata": {},
     "output_type": "execute_result"
    },
    {
     "data": {
      "image/png": "[encoded data removed]",
      "text/plain": [
       "<Figure size 640x480 with 2 Axes>"
      ]
     },
     "metadata": {},
     "output_type": "display_data"
    }
   ],
   "source": [
    "finalDf_ss_8.plot(x=\"pca1\",y =\"pca3\",c=cluster_labels,kind=\"scatter\",s=30 ,cmap=plt.cm.coolwarm) \n",
    "plt.title('Clusters using Agglomerative') "
   ]
  },
  {
   "cell_type": "code",
   "execution_count": 41,
   "id": "f43e8c69",
   "metadata": {
    "ExecuteTime": {
     "end_time": "2023-06-04T06:42:54.046703Z",
     "start_time": "2023-06-04T06:42:54.033738Z"
    }
   },
   "outputs": [],
   "source": [
    "import sklearn"
   ]
  },
  {
   "cell_type": "code",
   "execution_count": 42,
   "id": "f406315f",
   "metadata": {
    "ExecuteTime": {
     "end_time": "2023-06-04T06:42:54.062662Z",
     "start_time": "2023-06-04T06:42:54.050694Z"
    }
   },
   "outputs": [
    {
     "data": {
      "text/plain": [
       "array([[-3.5229339 , -1.45309844, -0.16479549, ..., -0.30071618,\n",
       "         0.57387557,  0.05563728],\n",
       "       [-2.52885806,  0.33001925, -2.02670665, ..., -0.88430941,\n",
       "        -0.02971648,  1.01037189],\n",
       "       [-2.78502898, -1.03693595,  0.9832377 , ...,  0.46884161,\n",
       "         0.4883054 , -0.26895705],\n",
       "       ...,\n",
       "       [ 3.02727243, -2.75604024, -0.94080304, ...,  0.00529036,\n",
       "         0.73302611,  0.05254455],\n",
       "       [ 2.75522166, -2.29378408, -0.55047368, ...,  1.01256231,\n",
       "         0.75542325,  0.42651198],\n",
       "       [ 3.49633565, -2.76060799,  1.01315115, ...,  0.37722337,\n",
       "         0.01530664, -0.32500213]])"
      ]
     },
     "execution_count": 42,
     "metadata": {},
     "output_type": "execute_result"
    }
   ],
   "source": [
    "pca_ss_values"
   ]
  },
  {
   "cell_type": "markdown",
   "id": "def47e3c",
   "metadata": {},
   "source": [
    "## Performance of the clustering using the Silhouette score"
   ]
  },
  {
   "cell_type": "markdown",
   "id": "736712ac",
   "metadata": {},
   "source": [
    "#### For standardized data with 3 principal components"
   ]
  },
  {
   "cell_type": "code",
   "execution_count": 43,
   "id": "b966733f",
   "metadata": {
    "ExecuteTime": {
     "end_time": "2023-06-04T06:42:54.092579Z",
     "start_time": "2023-06-04T06:42:54.066650Z"
    }
   },
   "outputs": [
    {
     "data": {
      "text/plain": [
       "0.4117625953840383"
      ]
     },
     "execution_count": 43,
     "metadata": {},
     "output_type": "execute_result"
    }
   ],
   "source": [
    "sklearn.metrics.silhouette_score(pca_ss_values[:, 0:3], finalDf_ss_3.iloc[:, -1])"
   ]
  },
  {
   "cell_type": "markdown",
   "id": "58f0d8d9",
   "metadata": {},
   "source": [
    "#### For standardized data with 8 principal components"
   ]
  },
  {
   "cell_type": "code",
   "execution_count": 44,
   "id": "1162b559",
   "metadata": {
    "ExecuteTime": {
     "end_time": "2023-06-04T06:42:54.108540Z",
     "start_time": "2023-06-04T06:42:54.096569Z"
    }
   },
   "outputs": [
    {
     "data": {
      "text/plain": [
       "0.29899210423833034"
      ]
     },
     "execution_count": 44,
     "metadata": {},
     "output_type": "execute_result"
    }
   ],
   "source": [
    "sklearn.metrics.silhouette_score(pca_ss_values[:, :], finalDf_ss_8.iloc[:, -1])"
   ]
  },
  {
   "cell_type": "markdown",
   "id": "a04ada10",
   "metadata": {},
   "source": [
    "#### For normalized data with 3 principal components"
   ]
  },
  {
   "cell_type": "code",
   "execution_count": 45,
   "id": "7a008ba0",
   "metadata": {
    "ExecuteTime": {
     "end_time": "2023-06-04T06:42:54.124497Z",
     "start_time": "2023-06-04T06:42:54.111535Z"
    }
   },
   "outputs": [
    {
     "data": {
      "text/plain": [
       "0.5673677512398142"
      ]
     },
     "execution_count": 45,
     "metadata": {},
     "output_type": "execute_result"
    }
   ],
   "source": [
    "sklearn.metrics.silhouette_score(pca_norm_values[:, 0:3], finalDf_norm_3.iloc[:, -1])"
   ]
  },
  {
   "cell_type": "markdown",
   "id": "b1e6ce5c",
   "metadata": {},
   "source": [
    "#### For normalized data with 8 principal components"
   ]
  },
  {
   "cell_type": "code",
   "execution_count": 46,
   "id": "04e72595",
   "metadata": {
    "ExecuteTime": {
     "end_time": "2023-06-04T06:42:54.140457Z",
     "start_time": "2023-06-04T06:42:54.128484Z"
    }
   },
   "outputs": [
    {
     "data": {
      "text/plain": [
       "0.406719964297668"
      ]
     },
     "execution_count": 46,
     "metadata": {},
     "output_type": "execute_result"
    }
   ],
   "source": [
    "sklearn.metrics.silhouette_score(pca_norm_values[:, :], finalDf_norm_8.iloc[:, -1])"
   ]
  },
  {
   "cell_type": "markdown",
   "id": "ceea81dc",
   "metadata": {},
   "source": [
    "#### For the original data with 3 principal components"
   ]
  },
  {
   "cell_type": "code",
   "execution_count": 47,
   "id": "78b5dfec",
   "metadata": {
    "ExecuteTime": {
     "end_time": "2023-06-04T06:42:54.156410Z",
     "start_time": "2023-06-04T06:42:54.143444Z"
    }
   },
   "outputs": [
    {
     "data": {
      "text/plain": [
       "0.6102590879195431"
      ]
     },
     "execution_count": 47,
     "metadata": {},
     "output_type": "execute_result"
    }
   ],
   "source": [
    "sklearn.metrics.silhouette_score(pca_values[:, 0:3], finalDf.iloc[:, -1])"
   ]
  },
  {
   "cell_type": "markdown",
   "id": "59f26b3b",
   "metadata": {},
   "source": [
    "**The Silhouette score for the dataset with no transformations and with 3 principal components is the highest.**"
   ]
  },
  {
   "cell_type": "code",
   "execution_count": null,
   "id": "dab8b052",
   "metadata": {},
   "outputs": [],
   "source": []
  }
 ],
 "metadata": {
  "kernelspec": {
   "display_name": "Python 3 (ipykernel)",
   "language": "python",
   "name": "python3"
  },
  "language_info": {
   "codemirror_mode": {
    "name": "ipython",
    "version": 3
   },
   "file_extension": ".py",
   "mimetype": "text/x-python",
   "name": "python",
   "nbconvert_exporter": "python",
   "pygments_lexer": "ipython3",
   "version": "3.10.9"
  },
  "varInspector": {
   "cols": {
    "lenName": 16,
    "lenType": 16,
    "lenVar": 40
   },
   "kernels_config": {
    "python": {
     "delete_cmd_postfix": "",
     "delete_cmd_prefix": "del ",
     "library": "var_list.py",
     "varRefreshCmd": "print(var_dic_list())"
    },
    "r": {
     "delete_cmd_postfix": ") ",
     "delete_cmd_prefix": "rm(",
     "library": "var_list.r",
     "varRefreshCmd": "cat(var_dic_list()) "
    }
   },
   "types_to_exclude": [
    "module",
    "function",
    "builtin_function_or_method",
    "instance",
    "_Feature"
   ],
   "window_display": false
  }
 },
 "nbformat": 4,
 "nbformat_minor": 5
}
